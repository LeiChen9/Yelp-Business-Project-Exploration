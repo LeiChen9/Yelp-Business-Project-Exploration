{
 "cells": [
  {
   "cell_type": "markdown",
   "metadata": {},
   "source": [
    "# Yelp Data Challenge - NLP\n",
    "\n",
    "Lei Chen\n",
    "\n",
    "Oct 2018"
   ]
  },
  {
   "cell_type": "code",
   "execution_count": 1,
   "metadata": {},
   "outputs": [],
   "source": [
    "import pandas as pd\n",
    "import numpy as np\n",
    "import matplotlib.pyplot as plt\n",
    "%matplotlib inline"
   ]
  },
  {
   "cell_type": "code",
   "execution_count": 2,
   "metadata": {},
   "outputs": [],
   "source": [
    "df = pd.read_csv('../data/last_2_years_restaurant_reviews.csv', encoding = \"ISO-8859-1\")"
   ]
  },
  {
   "cell_type": "code",
   "execution_count": 3,
   "metadata": {},
   "outputs": [
    {
     "data": {
      "text/html": [
       "<div>\n",
       "<style scoped>\n",
       "    .dataframe tbody tr th:only-of-type {\n",
       "        vertical-align: middle;\n",
       "    }\n",
       "\n",
       "    .dataframe tbody tr th {\n",
       "        vertical-align: top;\n",
       "    }\n",
       "\n",
       "    .dataframe thead th {\n",
       "        text-align: right;\n",
       "    }\n",
       "</style>\n",
       "<table border=\"1\" class=\"dataframe\">\n",
       "  <thead>\n",
       "    <tr style=\"text-align: right;\">\n",
       "      <th></th>\n",
       "      <th>business_id</th>\n",
       "      <th>cool</th>\n",
       "      <th>date</th>\n",
       "      <th>funny</th>\n",
       "      <th>review_id</th>\n",
       "      <th>stars</th>\n",
       "      <th>text</th>\n",
       "      <th>useful</th>\n",
       "      <th>user_id</th>\n",
       "      <th>address</th>\n",
       "      <th>...</th>\n",
       "      <th>hours</th>\n",
       "      <th>is_open</th>\n",
       "      <th>latitude</th>\n",
       "      <th>longitude</th>\n",
       "      <th>name</th>\n",
       "      <th>neighborhood</th>\n",
       "      <th>postal_code</th>\n",
       "      <th>review_count</th>\n",
       "      <th>avg_stars</th>\n",
       "      <th>state</th>\n",
       "    </tr>\n",
       "  </thead>\n",
       "  <tbody>\n",
       "    <tr>\n",
       "      <th>0</th>\n",
       "      <td>--9e1ONYQuAa-CB_Rrw7Tw</td>\n",
       "      <td>0</td>\n",
       "      <td>2017-02-14</td>\n",
       "      <td>0</td>\n",
       "      <td>VETXTwMw6qxzOVDlXfe6Tg</td>\n",
       "      <td>5</td>\n",
       "      <td>went for dinner tonight. Amazing my husband ha...</td>\n",
       "      <td>0</td>\n",
       "      <td>ymlnR8UeFvB4FZL56tCZsA</td>\n",
       "      <td>3355 Las Vegas Blvd S</td>\n",
       "      <td>...</td>\n",
       "      <td>{'Monday': '11:30-14:0', 'Tuesday': '11:30-14:...</td>\n",
       "      <td>1.0</td>\n",
       "      <td>36.123183</td>\n",
       "      <td>-115.16919</td>\n",
       "      <td>Delmonico Steakhouse</td>\n",
       "      <td>The Strip</td>\n",
       "      <td>89109.0</td>\n",
       "      <td>1546.0</td>\n",
       "      <td>4.0</td>\n",
       "      <td>NV</td>\n",
       "    </tr>\n",
       "    <tr>\n",
       "      <th>1</th>\n",
       "      <td>--9e1ONYQuAa-CB_Rrw7Tw</td>\n",
       "      <td>0</td>\n",
       "      <td>2017-12-04</td>\n",
       "      <td>0</td>\n",
       "      <td>S8-8uZ7fa5YbjnEtaW15ng</td>\n",
       "      <td>5</td>\n",
       "      <td>This was an amazing dinning experience! ORDER ...</td>\n",
       "      <td>0</td>\n",
       "      <td>9pSSL6X6lFpY3FCRLEH3og</td>\n",
       "      <td>3355 Las Vegas Blvd S</td>\n",
       "      <td>...</td>\n",
       "      <td>{'Monday': '11:30-14:0', 'Tuesday': '11:30-14:...</td>\n",
       "      <td>1.0</td>\n",
       "      <td>36.123183</td>\n",
       "      <td>-115.16919</td>\n",
       "      <td>Delmonico Steakhouse</td>\n",
       "      <td>The Strip</td>\n",
       "      <td>89109.0</td>\n",
       "      <td>1546.0</td>\n",
       "      <td>4.0</td>\n",
       "      <td>NV</td>\n",
       "    </tr>\n",
       "    <tr>\n",
       "      <th>2</th>\n",
       "      <td>--9e1ONYQuAa-CB_Rrw7Tw</td>\n",
       "      <td>0</td>\n",
       "      <td>2016-08-22</td>\n",
       "      <td>1</td>\n",
       "      <td>1nK5w0VNfDlnR3bOz13dJQ</td>\n",
       "      <td>5</td>\n",
       "      <td>My husband and I went there for lunch on a Sat...</td>\n",
       "      <td>1</td>\n",
       "      <td>gm8nNoA3uB4In5o_Hxpq3g</td>\n",
       "      <td>3355 Las Vegas Blvd S</td>\n",
       "      <td>...</td>\n",
       "      <td>{'Monday': '11:30-14:0', 'Tuesday': '11:30-14:...</td>\n",
       "      <td>1.0</td>\n",
       "      <td>36.123183</td>\n",
       "      <td>-115.16919</td>\n",
       "      <td>Delmonico Steakhouse</td>\n",
       "      <td>The Strip</td>\n",
       "      <td>89109.0</td>\n",
       "      <td>1546.0</td>\n",
       "      <td>4.0</td>\n",
       "      <td>NV</td>\n",
       "    </tr>\n",
       "    <tr>\n",
       "      <th>3</th>\n",
       "      <td>--9e1ONYQuAa-CB_Rrw7Tw</td>\n",
       "      <td>0</td>\n",
       "      <td>2016-09-13</td>\n",
       "      <td>0</td>\n",
       "      <td>N1Z93BthdJ7FT2p5S22jIA</td>\n",
       "      <td>3</td>\n",
       "      <td>Went for a nice anniversary dinner. Researched...</td>\n",
       "      <td>0</td>\n",
       "      <td>CEtidlXNyQzgJSdF1ubPFw</td>\n",
       "      <td>3355 Las Vegas Blvd S</td>\n",
       "      <td>...</td>\n",
       "      <td>{'Monday': '11:30-14:0', 'Tuesday': '11:30-14:...</td>\n",
       "      <td>1.0</td>\n",
       "      <td>36.123183</td>\n",
       "      <td>-115.16919</td>\n",
       "      <td>Delmonico Steakhouse</td>\n",
       "      <td>The Strip</td>\n",
       "      <td>89109.0</td>\n",
       "      <td>1546.0</td>\n",
       "      <td>4.0</td>\n",
       "      <td>NV</td>\n",
       "    </tr>\n",
       "    <tr>\n",
       "      <th>4</th>\n",
       "      <td>--9e1ONYQuAa-CB_Rrw7Tw</td>\n",
       "      <td>0</td>\n",
       "      <td>2015-02-02</td>\n",
       "      <td>0</td>\n",
       "      <td>_Uwp6FO1X-avE9wqTMC59w</td>\n",
       "      <td>5</td>\n",
       "      <td>This place is first class in every way. Lobste...</td>\n",
       "      <td>0</td>\n",
       "      <td>-Z7Nw2UF7NiBSAzfXNA_XA</td>\n",
       "      <td>3355 Las Vegas Blvd S</td>\n",
       "      <td>...</td>\n",
       "      <td>{'Monday': '11:30-14:0', 'Tuesday': '11:30-14:...</td>\n",
       "      <td>1.0</td>\n",
       "      <td>36.123183</td>\n",
       "      <td>-115.16919</td>\n",
       "      <td>Delmonico Steakhouse</td>\n",
       "      <td>The Strip</td>\n",
       "      <td>89109.0</td>\n",
       "      <td>1546.0</td>\n",
       "      <td>4.0</td>\n",
       "      <td>NV</td>\n",
       "    </tr>\n",
       "  </tbody>\n",
       "</table>\n",
       "<p>5 rows × 23 columns</p>\n",
       "</div>"
      ],
      "text/plain": [
       "              business_id  cool        date  funny               review_id  \\\n",
       "0  --9e1ONYQuAa-CB_Rrw7Tw     0  2017-02-14      0  VETXTwMw6qxzOVDlXfe6Tg   \n",
       "1  --9e1ONYQuAa-CB_Rrw7Tw     0  2017-12-04      0  S8-8uZ7fa5YbjnEtaW15ng   \n",
       "2  --9e1ONYQuAa-CB_Rrw7Tw     0  2016-08-22      1  1nK5w0VNfDlnR3bOz13dJQ   \n",
       "3  --9e1ONYQuAa-CB_Rrw7Tw     0  2016-09-13      0  N1Z93BthdJ7FT2p5S22jIA   \n",
       "4  --9e1ONYQuAa-CB_Rrw7Tw     0  2015-02-02      0  _Uwp6FO1X-avE9wqTMC59w   \n",
       "\n",
       "   stars                                               text  useful  \\\n",
       "0      5  went for dinner tonight. Amazing my husband ha...       0   \n",
       "1      5  This was an amazing dinning experience! ORDER ...       0   \n",
       "2      5  My husband and I went there for lunch on a Sat...       1   \n",
       "3      3  Went for a nice anniversary dinner. Researched...       0   \n",
       "4      5  This place is first class in every way. Lobste...       0   \n",
       "\n",
       "                  user_id                address  ...    \\\n",
       "0  ymlnR8UeFvB4FZL56tCZsA  3355 Las Vegas Blvd S  ...     \n",
       "1  9pSSL6X6lFpY3FCRLEH3og  3355 Las Vegas Blvd S  ...     \n",
       "2  gm8nNoA3uB4In5o_Hxpq3g  3355 Las Vegas Blvd S  ...     \n",
       "3  CEtidlXNyQzgJSdF1ubPFw  3355 Las Vegas Blvd S  ...     \n",
       "4  -Z7Nw2UF7NiBSAzfXNA_XA  3355 Las Vegas Blvd S  ...     \n",
       "\n",
       "                                               hours is_open   latitude  \\\n",
       "0  {'Monday': '11:30-14:0', 'Tuesday': '11:30-14:...     1.0  36.123183   \n",
       "1  {'Monday': '11:30-14:0', 'Tuesday': '11:30-14:...     1.0  36.123183   \n",
       "2  {'Monday': '11:30-14:0', 'Tuesday': '11:30-14:...     1.0  36.123183   \n",
       "3  {'Monday': '11:30-14:0', 'Tuesday': '11:30-14:...     1.0  36.123183   \n",
       "4  {'Monday': '11:30-14:0', 'Tuesday': '11:30-14:...     1.0  36.123183   \n",
       "\n",
       "   longitude                  name  neighborhood  postal_code review_count  \\\n",
       "0 -115.16919  Delmonico Steakhouse     The Strip      89109.0       1546.0   \n",
       "1 -115.16919  Delmonico Steakhouse     The Strip      89109.0       1546.0   \n",
       "2 -115.16919  Delmonico Steakhouse     The Strip      89109.0       1546.0   \n",
       "3 -115.16919  Delmonico Steakhouse     The Strip      89109.0       1546.0   \n",
       "4 -115.16919  Delmonico Steakhouse     The Strip      89109.0       1546.0   \n",
       "\n",
       "  avg_stars  state  \n",
       "0       4.0     NV  \n",
       "1       4.0     NV  \n",
       "2       4.0     NV  \n",
       "3       4.0     NV  \n",
       "4       4.0     NV  \n",
       "\n",
       "[5 rows x 23 columns]"
      ]
     },
     "execution_count": 3,
     "metadata": {},
     "output_type": "execute_result"
    }
   ],
   "source": [
    "df.head()"
   ]
  },
  {
   "cell_type": "markdown",
   "metadata": {},
   "source": [
    "### Define feature variables, here is the text of the review"
   ]
  },
  {
   "cell_type": "code",
   "execution_count": 4,
   "metadata": {},
   "outputs": [
    {
     "data": {
      "text/plain": [
       "'This was an amazing dinning experience! ORDER THE PORK CHOP! I will definitely return.'"
      ]
     },
     "execution_count": 4,
     "metadata": {},
     "output_type": "execute_result"
    }
   ],
   "source": [
    "# Take the values of the column that contains review text data, save to a variable named \"documents\"\n",
    "# df.isnull().sum()\n",
    "documents = df['text']\n",
    "documents[1]"
   ]
  },
  {
   "cell_type": "code",
   "execution_count": 5,
   "metadata": {},
   "outputs": [
    {
     "data": {
      "text/plain": [
       "640718"
      ]
     },
     "execution_count": 5,
     "metadata": {},
     "output_type": "execute_result"
    }
   ],
   "source": [
    "# inspect documents, take a peek at elements of the numpy array\n",
    "len(documents)"
   ]
  },
  {
   "cell_type": "markdown",
   "metadata": {},
   "source": [
    "### Define target variable (any categorical variable that may be meaningful)"
   ]
  },
  {
   "cell_type": "markdown",
   "metadata": {},
   "source": [
    "#### For example, define perfect (5 stars) and imperfect (1-4 stars) rating"
   ]
  },
  {
   "cell_type": "code",
   "execution_count": 6,
   "metadata": {},
   "outputs": [],
   "source": [
    "# Make a column and take the values, save to a variable named \"target\"\n",
    "# df.columns.values.tolist()\n",
    "df['target'] = (df['stars'] == 5) * 1"
   ]
  },
  {
   "cell_type": "markdown",
   "metadata": {},
   "source": [
    "#### Check the statistic of the target variable"
   ]
  },
  {
   "cell_type": "code",
   "execution_count": 7,
   "metadata": {},
   "outputs": [
    {
     "name": "stdout",
     "output_type": "stream",
     "text": [
      "0    336924\n",
      "1    303794\n",
      "Name: target, dtype: int64\n"
     ]
    },
    {
     "data": {
      "text/plain": [
       "<matplotlib.axes._subplots.AxesSubplot at 0x7f967ccad320>"
      ]
     },
     "execution_count": 7,
     "metadata": {},
     "output_type": "execute_result"
    },
    {
     "data": {
      "image/png": "[encoded data removed]",
      "text/plain": [
       "<Figure size 432x288 with 1 Axes>"
      ]
     },
     "metadata": {
      "needs_background": "light"
     },
     "output_type": "display_data"
    }
   ],
   "source": [
    "print(df['target'].value_counts())\n",
    "df['target'].value_counts().plot.bar()"
   ]
  },
  {
   "cell_type": "markdown",
   "metadata": {},
   "source": [
    "## Create training dataset and test dataset"
   ]
  },
  {
   "cell_type": "code",
   "execution_count": 8,
   "metadata": {},
   "outputs": [],
   "source": [
    "from sklearn.model_selection import train_test_split"
   ]
  },
  {
   "cell_type": "code",
   "execution_count": 9,
   "metadata": {},
   "outputs": [],
   "source": [
    "# Now split the data to training set and test set\n",
    "X = documents\n",
    "y = df['target'].values"
   ]
  },
  {
   "cell_type": "code",
   "execution_count": 10,
   "metadata": {},
   "outputs": [
    {
     "name": "stdout",
     "output_type": "stream",
     "text": [
      "640718\n",
      "640718\n"
     ]
    }
   ],
   "source": [
    "print(len(documents))\n",
    "print(len(y))"
   ]
  },
  {
   "cell_type": "code",
   "execution_count": 11,
   "metadata": {},
   "outputs": [],
   "source": [
    "# Split to documents_train, documents_test, target_train, target_test\n",
    "X_train, X_test, y_train, y_test = train_test_split(X, y, test_size=0.2, random_state=0)"
   ]
  },
  {
   "cell_type": "markdown",
   "metadata": {},
   "source": [
    "## Get NLP representation of the documents"
   ]
  },
  {
   "cell_type": "code",
   "execution_count": 12,
   "metadata": {},
   "outputs": [],
   "source": [
    "from sklearn.feature_extraction.text import TfidfVectorizer"
   ]
  },
  {
   "cell_type": "code",
   "execution_count": 13,
   "metadata": {},
   "outputs": [],
   "source": [
    "# Create TfidfVectorizer, and name it vectorizer\n",
    "vectorizer = TfidfVectorizer(stop_words='english', max_features=2000)"
   ]
  },
  {
   "cell_type": "code",
   "execution_count": 14,
   "metadata": {},
   "outputs": [
    {
     "data": {
      "text/plain": [
       "(512574,)"
      ]
     },
     "execution_count": 14,
     "metadata": {},
     "output_type": "execute_result"
    }
   ],
   "source": [
    "# X_train.shape\n",
    "X_train.shape"
   ]
  },
  {
   "cell_type": "code",
   "execution_count": 15,
   "metadata": {},
   "outputs": [
    {
     "name": "stdout",
     "output_type": "stream",
     "text": [
      "(512574, 2000)\n"
     ]
    },
    {
     "data": {
      "text/plain": [
       "['yelp',\n",
       " 'yes',\n",
       " 'yesterday',\n",
       " 'york',\n",
       " 'young',\n",
       " 'yum',\n",
       " 'yummy',\n",
       " 'zero',\n",
       " 'zucchini',\n",
       " 'ào']"
      ]
     },
     "execution_count": 15,
     "metadata": {},
     "output_type": "execute_result"
    }
   ],
   "source": [
    "# Train the model with training data\n",
    "X_train_vector = vectorizer.fit_transform(X_train)\n",
    "words = vectorizer.get_feature_names()\n",
    "print(X_train_vector.shape)\n",
    "words[-10:]"
   ]
  },
  {
   "cell_type": "code",
   "execution_count": 16,
   "metadata": {},
   "outputs": [
    {
     "data": {
      "text/plain": [
       "(128144, 2000)"
      ]
     },
     "execution_count": 16,
     "metadata": {},
     "output_type": "execute_result"
    }
   ],
   "source": [
    "# Use the trained model to transform your test data\n",
    "X_test_vector = vectorizer.transform(X_test)\n",
    "X_test_vector.shape"
   ]
  },
  {
   "cell_type": "markdown",
   "metadata": {},
   "source": [
    "## Similar review search engine"
   ]
  },
  {
   "cell_type": "code",
   "execution_count": 17,
   "metadata": {},
   "outputs": [],
   "source": [
    "import numpy as np\n",
    "\n",
    "# Define helper methods which would be used soon\n",
    "\n",
    "def get_top_values(lst, n, labels):\n",
    "    '''\n",
    "    INPUT: LIST, INTEGER, LIST\n",
    "    OUTPUT: LIST\n",
    "\n",
    "    Given a list of values, find the indices with the highest n values.\n",
    "    Return the labels for each of these indices.\n",
    "\n",
    "    e.g.\n",
    "    lst = [7, 3, 2, 4, 1]\n",
    "    n = 2\n",
    "    labels = [\"cat\", \"dog\", \"mouse\", \"pig\", \"rabbit\"]\n",
    "    output: [\"cat\", \"pig\"]\n",
    "    '''\n",
    "    return [labels[i] for i in np.argsort(lst)[::-1][:n]]  # np.argsort by default sorts values in ascending order\n",
    "\n",
    "def get_bottom_values(lst, n, labels):\n",
    "    '''\n",
    "    INPUT: LIST, INTEGER, LIST\n",
    "    OUTPUT: LIST\n",
    "\n",
    "    Given a list of values, find the indices with the lowest n values.\n",
    "    Return the labels for each of these indices.\n",
    "\n",
    "    e.g.\n",
    "    lst = [7, 3, 2, 4, 1]\n",
    "    n = 2\n",
    "    labels = [\"cat\", \"dog\", \"mouse\", \"pig\", \"rabbit\"]\n",
    "    output: [\"mouse\", \"rabbit\"]\n",
    "    '''\n",
    "    return [labels[i] for i in np.argsort(lst)[::1][:n]]\n"
   ]
  },
  {
   "cell_type": "code",
   "execution_count": 18,
   "metadata": {},
   "outputs": [],
   "source": [
    "# Use cosine similarity to define similarity of two vectors\n",
    "from sklearn.metrics.pairwise import cosine_similarity"
   ]
  },
  {
   "cell_type": "code",
   "execution_count": 19,
   "metadata": {},
   "outputs": [
    {
     "data": {
      "text/plain": [
       "[\"I truly have mixed feelings about this bar. It's super smoky, the decor is very outdated and the food it's just ok. Most of the people that come here are big time gamblers from the ages of 45 to infinity! This is definitely a very laid back bar, not much action happens here.\\r\\nOne of the few food items that I liked the most were the baked penne pasta and the fish and chips. Other than that there are not that many good dishes. Most of the food items and drinks are very cheap which is probably why so many people come here. But I still wonder why so many people come???..I guess it's probably the same reason why my bf keeps making me come here, cause it reminds him of the bars from his small town! .. Either way, the bar is waaay too smoky and I will try not to come here as often! :)\"]"
      ]
     },
     "execution_count": 19,
     "metadata": {},
     "output_type": "execute_result"
    }
   ],
   "source": [
    "# Draw an arbitrary review from test (unseen in training) documents\n",
    "import random\n",
    "test_review = random.sample(X_test.tolist(), 1)\n",
    "test_review"
   ]
  },
  {
   "cell_type": "code",
   "execution_count": 20,
   "metadata": {},
   "outputs": [
    {
     "data": {
      "text/plain": [
       "matrix([[0., 0., 0., ..., 0., 0., 0.]])"
      ]
     },
     "execution_count": 20,
     "metadata": {},
     "output_type": "execute_result"
    }
   ],
   "source": [
    "# Transform the drawn review(s) to vector(s)\n",
    "test_vec = vectorizer.transform(test_review)\n",
    "test_vec.todense()"
   ]
  },
  {
   "cell_type": "code",
   "execution_count": 21,
   "metadata": {},
   "outputs": [],
   "source": [
    "# Calculate the similarity score(s) between vector(s) and training vectors\n",
    "doc_simi = []\n",
    "for doc, tf_doc in zip(X_train, X_train_vector):\n",
    "    doc_simi.append(cosine_similarity(test_vec.todense().reshape(1, -1), tf_doc.reshape(1, -1)))"
   ]
  },
  {
   "cell_type": "code",
   "execution_count": 22,
   "metadata": {},
   "outputs": [
    {
     "data": {
      "text/plain": [
       "(512574,)"
      ]
     },
     "execution_count": 22,
     "metadata": {},
     "output_type": "execute_result"
    }
   ],
   "source": [
    "np.array(doc_simi).reshape(-1).shape"
   ]
  },
  {
   "cell_type": "code",
   "execution_count": 23,
   "metadata": {},
   "outputs": [
    {
     "data": {
      "text/plain": [
       "['Jess, Val and Henning are always behind the bar to start your day!  Give this place a try!  Come once, come often!',\n",
       " 'From out of town but each time we come to vegas we come.  Food is good and service is great.',\n",
       " 'good food. good service, but some items are too salty.\\r\\ni probably wont come back again.',\n",
       " 'Presentation of food was great, people were nice, food is great , bar stools need to be shorter for the bar, i had to huch over too far , decor is beautiful i will definitely come back',\n",
       " 'Love this Bar.  Rob is a constant professional and we go out of our way to come up here just to see him.   The drinks are good.   The only thing that they need is Food.  Again Rob, Rob.  Come see Rob.']"
      ]
     },
     "execution_count": 23,
     "metadata": {},
     "output_type": "execute_result"
    }
   ],
   "source": [
    "# find top 5 similar reviews\n",
    "n = 5\n",
    "doc_5_similar_reviews = get_top_values(np.array(doc_simi).reshape(-1), n, X_train.values)\n",
    "doc_5_similar_reviews"
   ]
  },
  {
   "cell_type": "code",
   "execution_count": 24,
   "metadata": {},
   "outputs": [
    {
     "name": "stdout",
     "output_type": "stream",
     "text": [
      "Our search query:\n",
      "[\"I truly have mixed feelings about this bar. It's super smoky, the decor is very outdated and the food it's just ok. Most of the people that come here are big time gamblers from the ages of 45 to infinity! This is definitely a very laid back bar, not much action happens here.\\r\\nOne of the few food items that I liked the most were the baked penne pasta and the fish and chips. Other than that there are not that many good dishes. Most of the food items and drinks are very cheap which is probably why so many people come here. But I still wonder why so many people come???..I guess it's probably the same reason why my bf keeps making me come here, cause it reminds him of the bars from his small town! .. Either way, the bar is waaay too smoky and I will try not to come here as often! :)\"]\n"
     ]
    }
   ],
   "source": [
    "print('Our search query:')\n",
    "print(test_review) "
   ]
  },
  {
   "cell_type": "code",
   "execution_count": 25,
   "metadata": {},
   "outputs": [
    {
     "name": "stdout",
     "output_type": "stream",
     "text": [
      "Most 5 similar reviews:\n",
      "['Jess, Val and Henning are always behind the bar to start your day!  Give this place a try!  Come once, come often!', 'From out of town but each time we come to vegas we come.  Food is good and service is great.', 'good food. good service, but some items are too salty.\\r\\ni probably wont come back again.', 'Presentation of food was great, people were nice, food is great , bar stools need to be shorter for the bar, i had to huch over too far , decor is beautiful i will definitely come back', 'Love this Bar.  Rob is a constant professional and we go out of our way to come up here just to see him.   The drinks are good.   The only thing that they need is Food.  Again Rob, Rob.  Come see Rob.']\n"
     ]
    }
   ],
   "source": [
    "print('Most %s similar reviews:' % n)\n",
    "print(doc_5_similar_reviews)"
   ]
  },
  {
   "cell_type": "markdown",
   "metadata": {},
   "source": [
    "## Classifying positive/negative review"
   ]
  },
  {
   "cell_type": "markdown",
   "metadata": {},
   "source": [
    "#### Naive-Bayes Classifier"
   ]
  },
  {
   "cell_type": "code",
   "execution_count": 26,
   "metadata": {},
   "outputs": [
    {
     "data": {
      "text/plain": [
       "MultinomialNB(alpha=1.0, class_prior=None, fit_prior=True)"
      ]
     },
     "execution_count": 26,
     "metadata": {},
     "output_type": "execute_result"
    }
   ],
   "source": [
    "# Build a Naive-Bayes Classifier\n",
    "\n",
    "from sklearn.naive_bayes import MultinomialNB\n",
    "\n",
    "NB_model = MultinomialNB()\n",
    "\n",
    "NB_model.fit(X_train_vector, y_train)"
   ]
  },
  {
   "cell_type": "code",
   "execution_count": 27,
   "metadata": {},
   "outputs": [
    {
     "data": {
      "text/plain": [
       "0.8027796961999634"
      ]
     },
     "execution_count": 27,
     "metadata": {},
     "output_type": "execute_result"
    }
   ],
   "source": [
    "# Get score for training set\n",
    "NB_model.score(X_train_vector, y_train)"
   ]
  },
  {
   "cell_type": "code",
   "execution_count": 28,
   "metadata": {},
   "outputs": [
    {
     "data": {
      "text/plain": [
       "0.8031043201398427"
      ]
     },
     "execution_count": 28,
     "metadata": {},
     "output_type": "execute_result"
    }
   ],
   "source": [
    "# Get score for test set\n",
    "NB_model.score(X_test_vector, y_test)"
   ]
  },
  {
   "cell_type": "markdown",
   "metadata": {},
   "source": [
    "#### Logistic Regression Classifier"
   ]
  },
  {
   "cell_type": "code",
   "execution_count": 29,
   "metadata": {},
   "outputs": [
    {
     "name": "stderr",
     "output_type": "stream",
     "text": [
      "/usr/local/lib/python3.6/dist-packages/sklearn/linear_model/logistic.py:432: FutureWarning: Default solver will be changed to 'lbfgs' in 0.22. Specify a solver to silence this warning.\n",
      "  FutureWarning)\n"
     ]
    },
    {
     "data": {
      "text/plain": [
       "LogisticRegression(C=1.0, class_weight=None, dual=False, fit_intercept=True,\n",
       "          intercept_scaling=1, max_iter=100, multi_class='warn',\n",
       "          n_jobs=None, penalty='l2', random_state=None, solver='warn',\n",
       "          tol=0.0001, verbose=0, warm_start=False)"
      ]
     },
     "execution_count": 29,
     "metadata": {},
     "output_type": "execute_result"
    }
   ],
   "source": [
    "# Build a Logistic Regression Classifier\n",
    "\n",
    "from sklearn.linear_model import LogisticRegression\n",
    "\n",
    "lr_model = LogisticRegression()\n",
    "\n",
    "lr_model.fit(X_train_vector, y_train)"
   ]
  },
  {
   "cell_type": "code",
   "execution_count": 30,
   "metadata": {},
   "outputs": [
    {
     "data": {
      "text/plain": [
       "0.8293592730025323"
      ]
     },
     "execution_count": 30,
     "metadata": {},
     "output_type": "execute_result"
    }
   ],
   "source": [
    "# Get score for training set\n",
    "lr_model.score(X_train_vector, y_train)"
   ]
  },
  {
   "cell_type": "code",
   "execution_count": 31,
   "metadata": {
    "scrolled": true
   },
   "outputs": [
    {
     "data": {
      "text/plain": [
       "0.8285210388313148"
      ]
     },
     "execution_count": 31,
     "metadata": {},
     "output_type": "execute_result"
    }
   ],
   "source": [
    "# Get score for test set\n",
    "lr_model.score(X_test_vector, y_test)"
   ]
  },
  {
   "cell_type": "markdown",
   "metadata": {},
   "source": [
    "#### Q: What are the key features(words) that make the positive prediction?"
   ]
  },
  {
   "cell_type": "code",
   "execution_count": 32,
   "metadata": {},
   "outputs": [
    {
     "data": {
      "text/plain": [
       "['amazing',\n",
       " 'best',\n",
       " 'incredible',\n",
       " 'thank',\n",
       " 'awesome',\n",
       " 'phenomenal',\n",
       " 'perfect',\n",
       " 'heaven',\n",
       " 'delicious',\n",
       " 'perfection',\n",
       " 'fantastic',\n",
       " 'highly',\n",
       " 'excellent',\n",
       " 'favorite',\n",
       " 'impeccable',\n",
       " 'outstanding',\n",
       " 'great',\n",
       " 'omg',\n",
       " 'love',\n",
       " 'bomb']"
      ]
     },
     "execution_count": 32,
     "metadata": {},
     "output_type": "execute_result"
    }
   ],
   "source": [
    "# find it out by ranking\n",
    "n = 20\n",
    "\n",
    "get_top_values(lr_model.coef_.reshape(-1), n, words)"
   ]
  },
  {
   "cell_type": "markdown",
   "metadata": {},
   "source": [
    "Kind of use the significance of coefficient to determine the power of features in prediction"
   ]
  },
  {
   "cell_type": "markdown",
   "metadata": {},
   "source": [
    "#### Q: What are the key features(words) that make the negative prediction?"
   ]
  },
  {
   "cell_type": "code",
   "execution_count": 33,
   "metadata": {},
   "outputs": [
    {
     "data": {
      "text/plain": [
       "['worst',\n",
       " 'horrible',\n",
       " 'disappointing',\n",
       " 'terrible',\n",
       " 'rude',\n",
       " 'mediocre',\n",
       " 'bland',\n",
       " 'lacked',\n",
       " 'ok',\n",
       " 'disgusting',\n",
       " 'okay',\n",
       " 'lacking',\n",
       " 'awful',\n",
       " 'poor',\n",
       " 'worse',\n",
       " 'meh',\n",
       " 'slow',\n",
       " 'tasteless',\n",
       " 'overpriced',\n",
       " 'flavorless']"
      ]
     },
     "execution_count": 33,
     "metadata": {},
     "output_type": "execute_result"
    }
   ],
   "source": [
    "# find it out by ranking\n",
    "n = 20\n",
    "\n",
    "get_bottom_values(lr_model.coef_.reshape(-1), n, words)"
   ]
  },
  {
   "cell_type": "markdown",
   "metadata": {},
   "source": [
    "The one of good side of logistic regression is that the coefficient significance is defined by absolutely value, so rank can work on find out the key features of -1"
   ]
  },
  {
   "cell_type": "markdown",
   "metadata": {},
   "source": [
    "#### Random Forest Classifier"
   ]
  },
  {
   "cell_type": "code",
   "execution_count": 34,
   "metadata": {},
   "outputs": [
    {
     "data": {
      "text/plain": [
       "RandomForestClassifier(bootstrap=True, class_weight=None, criterion='gini',\n",
       "            max_depth=50, max_features='auto', max_leaf_nodes=None,\n",
       "            min_impurity_decrease=0.0, min_impurity_split=None,\n",
       "            min_samples_leaf=3, min_samples_split=2,\n",
       "            min_weight_fraction_leaf=0.0, n_estimators=200, n_jobs=-1,\n",
       "            oob_score=False, random_state=1, verbose=0, warm_start=False)"
      ]
     },
     "execution_count": 34,
     "metadata": {},
     "output_type": "execute_result"
    }
   ],
   "source": [
    "# Build a Random Forest Classifier\n",
    "\n",
    "from sklearn.ensemble import RandomForestClassifier\n",
    "\n",
    "rf_model = RandomForestClassifier(n_estimators=200,max_depth=50,min_samples_leaf=3, random_state=1, n_jobs=-1)\n",
    "\n",
    "rf_model.fit(X_train_vector, y_train)"
   ]
  },
  {
   "cell_type": "code",
   "execution_count": 35,
   "metadata": {},
   "outputs": [
    {
     "data": {
      "text/plain": [
       "0.8730446725741063"
      ]
     },
     "execution_count": 35,
     "metadata": {},
     "output_type": "execute_result"
    }
   ],
   "source": [
    "# Get score for training set\n",
    "rf_model.score(X_train_vector, y_train)"
   ]
  },
  {
   "cell_type": "code",
   "execution_count": 36,
   "metadata": {},
   "outputs": [
    {
     "data": {
      "text/plain": [
       "0.8031667499063554"
      ]
     },
     "execution_count": 36,
     "metadata": {},
     "output_type": "execute_result"
    }
   ],
   "source": [
    "# Get score for test set\n",
    "rf_model.score(X_test_vector, y_test)"
   ]
  },
  {
   "cell_type": "markdown",
   "metadata": {},
   "source": [
    "#### less overfitting than logistic regression"
   ]
  },
  {
   "cell_type": "markdown",
   "metadata": {},
   "source": [
    "#### Check features importance by inspecting the RFC model?"
   ]
  },
  {
   "cell_type": "code",
   "execution_count": 38,
   "metadata": {},
   "outputs": [
    {
     "data": {
      "text/plain": [
       "(2000,)"
      ]
     },
     "execution_count": 38,
     "metadata": {},
     "output_type": "execute_result"
    }
   ],
   "source": [
    "n = 20\n",
    "importances = rf_model.feature_importances_\n",
    "importances.shape"
   ]
  },
  {
   "cell_type": "code",
   "execution_count": 39,
   "metadata": {},
   "outputs": [
    {
     "data": {
      "text/plain": [
       "['amazing',\n",
       " 'best',\n",
       " 'great',\n",
       " 'delicious',\n",
       " 'ok',\n",
       " 'love',\n",
       " 'awesome',\n",
       " 'bad',\n",
       " 'vegas',\n",
       " 'didn',\n",
       " 'definitely',\n",
       " 'good',\n",
       " 'worst',\n",
       " 'wasn',\n",
       " 'pretty',\n",
       " 'favorite',\n",
       " 'excellent',\n",
       " 'horrible',\n",
       " 'perfect',\n",
       " 'minutes']"
      ]
     },
     "execution_count": 39,
     "metadata": {},
     "output_type": "execute_result"
    }
   ],
   "source": [
    "n = 20\n",
    "get_top_values(importances.reshape(-1), n, words)"
   ]
  },
  {
   "cell_type": "code",
   "execution_count": 40,
   "metadata": {},
   "outputs": [
    {
     "data": {
      "text/plain": [
       "['proceeded',\n",
       " 'tells',\n",
       " 'giada',\n",
       " 'nope',\n",
       " 'contact',\n",
       " 'apology',\n",
       " 'eventually',\n",
       " 'hookah',\n",
       " 'worker',\n",
       " 'receipt',\n",
       " 'women',\n",
       " 'jack',\n",
       " 'industry',\n",
       " 'confused',\n",
       " 'color',\n",
       " 'grabbed',\n",
       " 'knife',\n",
       " 'website',\n",
       " 'cleaning',\n",
       " 'greet']"
      ]
     },
     "execution_count": 40,
     "metadata": {},
     "output_type": "execute_result"
    }
   ],
   "source": [
    "n = 20\n",
    "get_bottom_values(importances.reshape(-1), n, words)"
   ]
  }
 ],
 "metadata": {
  "anaconda-cloud": {},
  "kernelspec": {
   "display_name": "Python 3",
   "language": "python",
   "name": "python3"
  },
  "language_info": {
   "codemirror_mode": {
    "name": "ipython",
    "version": 3
   },
   "file_extension": ".py",
   "mimetype": "text/x-python",
   "name": "python",
   "nbconvert_exporter": "python",
   "pygments_lexer": "ipython3",
   "version": "3.6.7"
  }
 },
 "nbformat": 4,
 "nbformat_minor": 1
}
