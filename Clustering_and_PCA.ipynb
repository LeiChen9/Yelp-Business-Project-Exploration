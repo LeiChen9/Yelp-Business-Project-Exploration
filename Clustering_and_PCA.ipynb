{
 "cells": [
  {
   "cell_type": "markdown",
   "metadata": {},
   "source": [
    "# Yelp Data Challenge - Clustering and PCA\n",
    "\n",
    "Lei Chen\n",
    "\n",
    "Sep 2018"
   ]
  },
  {
   "cell_type": "code",
   "execution_count": 1,
   "metadata": {},
   "outputs": [],
   "source": [
    "import pandas as pd\n",
    "import numpy as np\n",
    "import matplotlib.pyplot as plt\n",
    "%matplotlib inline\n",
    "plt.style.use(\"ggplot\")"
   ]
  },
  {
   "cell_type": "code",
   "execution_count": 2,
   "metadata": {},
   "outputs": [],
   "source": [
    "df = pd.read_csv('../data/last_2_years_restaurant_reviews.csv', encoding = \"ISO-8859-1\")"
   ]
  },
  {
   "cell_type": "code",
   "execution_count": 3,
   "metadata": {},
   "outputs": [
    {
     "data": {
      "text/html": [
       "<div>\n",
       "<style scoped>\n",
       "    .dataframe tbody tr th:only-of-type {\n",
       "        vertical-align: middle;\n",
       "    }\n",
       "\n",
       "    .dataframe tbody tr th {\n",
       "        vertical-align: top;\n",
       "    }\n",
       "\n",
       "    .dataframe thead th {\n",
       "        text-align: right;\n",
       "    }\n",
       "</style>\n",
       "<table border=\"1\" class=\"dataframe\">\n",
       "  <thead>\n",
       "    <tr style=\"text-align: right;\">\n",
       "      <th></th>\n",
       "      <th>business_id</th>\n",
       "      <th>cool</th>\n",
       "      <th>date</th>\n",
       "      <th>funny</th>\n",
       "      <th>review_id</th>\n",
       "      <th>stars</th>\n",
       "      <th>text</th>\n",
       "      <th>useful</th>\n",
       "      <th>user_id</th>\n",
       "      <th>address</th>\n",
       "      <th>...</th>\n",
       "      <th>hours</th>\n",
       "      <th>is_open</th>\n",
       "      <th>latitude</th>\n",
       "      <th>longitude</th>\n",
       "      <th>name</th>\n",
       "      <th>neighborhood</th>\n",
       "      <th>postal_code</th>\n",
       "      <th>review_count</th>\n",
       "      <th>avg_stars</th>\n",
       "      <th>state</th>\n",
       "    </tr>\n",
       "  </thead>\n",
       "  <tbody>\n",
       "    <tr>\n",
       "      <th>0</th>\n",
       "      <td>--9e1ONYQuAa-CB_Rrw7Tw</td>\n",
       "      <td>0</td>\n",
       "      <td>2017-02-14</td>\n",
       "      <td>0</td>\n",
       "      <td>VETXTwMw6qxzOVDlXfe6Tg</td>\n",
       "      <td>5</td>\n",
       "      <td>went for dinner tonight. Amazing my husband ha...</td>\n",
       "      <td>0</td>\n",
       "      <td>ymlnR8UeFvB4FZL56tCZsA</td>\n",
       "      <td>3355 Las Vegas Blvd S</td>\n",
       "      <td>...</td>\n",
       "      <td>{'Monday': '11:30-14:0', 'Tuesday': '11:30-14:...</td>\n",
       "      <td>1.0</td>\n",
       "      <td>36.123183</td>\n",
       "      <td>-115.16919</td>\n",
       "      <td>Delmonico Steakhouse</td>\n",
       "      <td>The Strip</td>\n",
       "      <td>89109.0</td>\n",
       "      <td>1546.0</td>\n",
       "      <td>4.0</td>\n",
       "      <td>NV</td>\n",
       "    </tr>\n",
       "    <tr>\n",
       "      <th>1</th>\n",
       "      <td>--9e1ONYQuAa-CB_Rrw7Tw</td>\n",
       "      <td>0</td>\n",
       "      <td>2017-12-04</td>\n",
       "      <td>0</td>\n",
       "      <td>S8-8uZ7fa5YbjnEtaW15ng</td>\n",
       "      <td>5</td>\n",
       "      <td>This was an amazing dinning experience! ORDER ...</td>\n",
       "      <td>0</td>\n",
       "      <td>9pSSL6X6lFpY3FCRLEH3og</td>\n",
       "      <td>3355 Las Vegas Blvd S</td>\n",
       "      <td>...</td>\n",
       "      <td>{'Monday': '11:30-14:0', 'Tuesday': '11:30-14:...</td>\n",
       "      <td>1.0</td>\n",
       "      <td>36.123183</td>\n",
       "      <td>-115.16919</td>\n",
       "      <td>Delmonico Steakhouse</td>\n",
       "      <td>The Strip</td>\n",
       "      <td>89109.0</td>\n",
       "      <td>1546.0</td>\n",
       "      <td>4.0</td>\n",
       "      <td>NV</td>\n",
       "    </tr>\n",
       "    <tr>\n",
       "      <th>2</th>\n",
       "      <td>--9e1ONYQuAa-CB_Rrw7Tw</td>\n",
       "      <td>0</td>\n",
       "      <td>2016-08-22</td>\n",
       "      <td>1</td>\n",
       "      <td>1nK5w0VNfDlnR3bOz13dJQ</td>\n",
       "      <td>5</td>\n",
       "      <td>My husband and I went there for lunch on a Sat...</td>\n",
       "      <td>1</td>\n",
       "      <td>gm8nNoA3uB4In5o_Hxpq3g</td>\n",
       "      <td>3355 Las Vegas Blvd S</td>\n",
       "      <td>...</td>\n",
       "      <td>{'Monday': '11:30-14:0', 'Tuesday': '11:30-14:...</td>\n",
       "      <td>1.0</td>\n",
       "      <td>36.123183</td>\n",
       "      <td>-115.16919</td>\n",
       "      <td>Delmonico Steakhouse</td>\n",
       "      <td>The Strip</td>\n",
       "      <td>89109.0</td>\n",
       "      <td>1546.0</td>\n",
       "      <td>4.0</td>\n",
       "      <td>NV</td>\n",
       "    </tr>\n",
       "    <tr>\n",
       "      <th>3</th>\n",
       "      <td>--9e1ONYQuAa-CB_Rrw7Tw</td>\n",
       "      <td>0</td>\n",
       "      <td>2016-09-13</td>\n",
       "      <td>0</td>\n",
       "      <td>N1Z93BthdJ7FT2p5S22jIA</td>\n",
       "      <td>3</td>\n",
       "      <td>Went for a nice anniversary dinner. Researched...</td>\n",
       "      <td>0</td>\n",
       "      <td>CEtidlXNyQzgJSdF1ubPFw</td>\n",
       "      <td>3355 Las Vegas Blvd S</td>\n",
       "      <td>...</td>\n",
       "      <td>{'Monday': '11:30-14:0', 'Tuesday': '11:30-14:...</td>\n",
       "      <td>1.0</td>\n",
       "      <td>36.123183</td>\n",
       "      <td>-115.16919</td>\n",
       "      <td>Delmonico Steakhouse</td>\n",
       "      <td>The Strip</td>\n",
       "      <td>89109.0</td>\n",
       "      <td>1546.0</td>\n",
       "      <td>4.0</td>\n",
       "      <td>NV</td>\n",
       "    </tr>\n",
       "    <tr>\n",
       "      <th>4</th>\n",
       "      <td>--9e1ONYQuAa-CB_Rrw7Tw</td>\n",
       "      <td>0</td>\n",
       "      <td>2015-02-02</td>\n",
       "      <td>0</td>\n",
       "      <td>_Uwp6FO1X-avE9wqTMC59w</td>\n",
       "      <td>5</td>\n",
       "      <td>This place is first class in every way. Lobste...</td>\n",
       "      <td>0</td>\n",
       "      <td>-Z7Nw2UF7NiBSAzfXNA_XA</td>\n",
       "      <td>3355 Las Vegas Blvd S</td>\n",
       "      <td>...</td>\n",
       "      <td>{'Monday': '11:30-14:0', 'Tuesday': '11:30-14:...</td>\n",
       "      <td>1.0</td>\n",
       "      <td>36.123183</td>\n",
       "      <td>-115.16919</td>\n",
       "      <td>Delmonico Steakhouse</td>\n",
       "      <td>The Strip</td>\n",
       "      <td>89109.0</td>\n",
       "      <td>1546.0</td>\n",
       "      <td>4.0</td>\n",
       "      <td>NV</td>\n",
       "    </tr>\n",
       "  </tbody>\n",
       "</table>\n",
       "<p>5 rows × 23 columns</p>\n",
       "</div>"
      ],
      "text/plain": [
       "              business_id  cool        date  funny               review_id  \\\n",
       "0  --9e1ONYQuAa-CB_Rrw7Tw     0  2017-02-14      0  VETXTwMw6qxzOVDlXfe6Tg   \n",
       "1  --9e1ONYQuAa-CB_Rrw7Tw     0  2017-12-04      0  S8-8uZ7fa5YbjnEtaW15ng   \n",
       "2  --9e1ONYQuAa-CB_Rrw7Tw     0  2016-08-22      1  1nK5w0VNfDlnR3bOz13dJQ   \n",
       "3  --9e1ONYQuAa-CB_Rrw7Tw     0  2016-09-13      0  N1Z93BthdJ7FT2p5S22jIA   \n",
       "4  --9e1ONYQuAa-CB_Rrw7Tw     0  2015-02-02      0  _Uwp6FO1X-avE9wqTMC59w   \n",
       "\n",
       "   stars                                               text  useful  \\\n",
       "0      5  went for dinner tonight. Amazing my husband ha...       0   \n",
       "1      5  This was an amazing dinning experience! ORDER ...       0   \n",
       "2      5  My husband and I went there for lunch on a Sat...       1   \n",
       "3      3  Went for a nice anniversary dinner. Researched...       0   \n",
       "4      5  This place is first class in every way. Lobste...       0   \n",
       "\n",
       "                  user_id                address  ...    \\\n",
       "0  ymlnR8UeFvB4FZL56tCZsA  3355 Las Vegas Blvd S  ...     \n",
       "1  9pSSL6X6lFpY3FCRLEH3og  3355 Las Vegas Blvd S  ...     \n",
       "2  gm8nNoA3uB4In5o_Hxpq3g  3355 Las Vegas Blvd S  ...     \n",
       "3  CEtidlXNyQzgJSdF1ubPFw  3355 Las Vegas Blvd S  ...     \n",
       "4  -Z7Nw2UF7NiBSAzfXNA_XA  3355 Las Vegas Blvd S  ...     \n",
       "\n",
       "                                               hours is_open   latitude  \\\n",
       "0  {'Monday': '11:30-14:0', 'Tuesday': '11:30-14:...     1.0  36.123183   \n",
       "1  {'Monday': '11:30-14:0', 'Tuesday': '11:30-14:...     1.0  36.123183   \n",
       "2  {'Monday': '11:30-14:0', 'Tuesday': '11:30-14:...     1.0  36.123183   \n",
       "3  {'Monday': '11:30-14:0', 'Tuesday': '11:30-14:...     1.0  36.123183   \n",
       "4  {'Monday': '11:30-14:0', 'Tuesday': '11:30-14:...     1.0  36.123183   \n",
       "\n",
       "   longitude                  name  neighborhood  postal_code review_count  \\\n",
       "0 -115.16919  Delmonico Steakhouse     The Strip      89109.0       1546.0   \n",
       "1 -115.16919  Delmonico Steakhouse     The Strip      89109.0       1546.0   \n",
       "2 -115.16919  Delmonico Steakhouse     The Strip      89109.0       1546.0   \n",
       "3 -115.16919  Delmonico Steakhouse     The Strip      89109.0       1546.0   \n",
       "4 -115.16919  Delmonico Steakhouse     The Strip      89109.0       1546.0   \n",
       "\n",
       "  avg_stars  state  \n",
       "0       4.0     NV  \n",
       "1       4.0     NV  \n",
       "2       4.0     NV  \n",
       "3       4.0     NV  \n",
       "4       4.0     NV  \n",
       "\n",
       "[5 rows x 23 columns]"
      ]
     },
     "execution_count": 3,
     "metadata": {},
     "output_type": "execute_result"
    }
   ],
   "source": [
    "df.head()"
   ]
  },
  {
   "cell_type": "markdown",
   "metadata": {},
   "source": [
    "## 1. Cluster the review text data for all the restaurants"
   ]
  },
  {
   "cell_type": "markdown",
   "metadata": {},
   "source": [
    "### Define feature variables, here is the text of the review"
   ]
  },
  {
   "cell_type": "code",
   "execution_count": 3,
   "metadata": {},
   "outputs": [
    {
     "data": {
      "text/plain": [
       "array([\"went for dinner tonight. Amazing my husband had lobster bisque and the T bone both were delish.I had the French onion soup and the pan seared duck. Cooked to perfection and I'm still raving about the flavor. If you are ever in Vegas this is a must try.\",\n",
       "       'This was an amazing dinning experience! ORDER THE PORK CHOP! I will definitely return.',\n",
       "       \"My husband and I went there for lunch on a Saturday. We had a physically exhausting week so we decided to treat ourselves. But it hasn't always been easy for our allergy whenever we ate out. So we called Delmonico ahead to see if they can accommodate our special needs. The lady who answered our call was very courteous and we felt comfortable to try after having some answers from her.\\r\\nAs we arrived, the restaurant has a comfortable ambience. I wouldn't say it is grand or special but just comfortable. When it was time to order, the server was courteous regarding our allergy too and I believe the one who took care of us was a manager. He even checked with the chef to make sure the complimentary popover was okay for us to consume. We told them we are allergic to soy, corn, peanut, tomato and pork products, and some other stuff, and he had been very mindful and advised accordingly as we ordered, he did it so graciously that we didn't feel being put in a spot. Some other semi high end restaurants had given us a startled face or even an uncomfortable face when we mentioned our allergy, but this manager was super professional that he didn't make us feel crappy about our differences from others. So he made a potential stressful situation easy for us, very impressive.\\r\\nTheir steak was aged in house by the restaurant and we think their aging was done fabulously as there was no rotten smell or taste in it. The manager even double checked with us and informed us that the beef was sourced from corn fed cows and asked if we would be able to tolerate that. And we made our decision to say yes and went ahead with the steak. Their steaks were very delicious. We actually asked for medium well with no seasoning and the steak still came out super delicious and juicy. So the good quality is in the steak itself and didn't need to depend on seasoning or being served bloodily. Again, very impressive.\\r\\nAnyway, it was a delicious meal and we were well taken care of so we didn't get sick from any event of undisclosed allergens. We are very happy with this meal. We would go back when we have another time wanting to treat ourselves again. Hopefully the manager will be there again the next time we visit.\",\n",
       "       \"Went for a nice anniversary dinner. Researched a lot of steakhouses and thought this was reasonably priced (compared to others) for Vegas so thought we'd give it a shot. made reservations but was not crowded on a Monday night. We split the bbq shrimp which were very good for an appetizer. Then we each had salads. I ordered the filet mignon which was a small 6oz serving for $50. I could've easily eaten 2 of them. But the steak was very tender and nicely seasoned. Husband had the bone in ribeye which is what they are known for. He enjoyed it. We split the mashed potatoes which were very good, but kinda hard to screw those up. We each had 1 drink and the bill was $200. Service was good. They give you nice warm rolls which were tasty. We would go back, but we like trying new places and it will probably be a few years before we go back to Vegas anyways.\",\n",
       "       'This place is first class in every way. Lobster Bisque is second to none. Awesome service! Going back in march!!'],\n",
       "      dtype=object)"
      ]
     },
     "execution_count": 3,
     "metadata": {},
     "output_type": "execute_result"
    }
   ],
   "source": [
    "# Take the values of the column that contains review text data, save to a variable named \"documents\"\n",
    "documents = df.text.values\n",
    "documents[:5]"
   ]
  },
  {
   "cell_type": "markdown",
   "metadata": {},
   "source": [
    "### Define your target variable (any categorical variable that may be meaningful)"
   ]
  },
  {
   "cell_type": "markdown",
   "metadata": {},
   "source": [
    "#### For example, I am interested in perfect (5 stars) and imperfect (1-4 stars) rating"
   ]
  },
  {
   "cell_type": "code",
   "execution_count": 4,
   "metadata": {},
   "outputs": [
    {
     "name": "stdout",
     "output_type": "stream",
     "text": [
      "(640718,)\n",
      "(640718,)\n",
      "640718\n"
     ]
    }
   ],
   "source": [
    "# Make a column and take the values, save to a variable named \"target\"\n",
    "target = df.stars.apply(lambda x: 1 if x == 5 else 0)\n",
    "print(target.shape)\n",
    "print(documents.shape)\n",
    "print(df.shape[0])"
   ]
  },
  {
   "cell_type": "markdown",
   "metadata": {},
   "source": [
    "#### take a look at the statistic of the target variable"
   ]
  },
  {
   "cell_type": "code",
   "execution_count": 19,
   "metadata": {},
   "outputs": [
    {
     "name": "stdout",
     "output_type": "stream",
     "text": [
      "0.4741461922405801\n",
      "0.49933152290734656\n"
     ]
    },
    {
     "data": {
      "text/plain": [
       "(array([336924.,      0., 303794.]),\n",
       " array([0.        , 0.33333333, 0.66666667, 1.        ]),\n",
       " <a list of 3 Patch objects>)"
      ]
     },
     "execution_count": 19,
     "metadata": {},
     "output_type": "execute_result"
    },
    {
     "data": {
      "image/png": "[encoded data removed]",
      "text/plain": [
       "<Figure size 432x288 with 1 Axes>"
      ]
     },
     "metadata": {
      "needs_background": "light"
     },
     "output_type": "display_data"
    }
   ],
   "source": [
    "# To be implemented\n",
    "print(target.mean())\n",
    "print(target.std())\n",
    "plt.hist(target, bins=3)"
   ]
  },
  {
   "cell_type": "markdown",
   "metadata": {},
   "source": [
    "### Create training dataset and test dataset"
   ]
  },
  {
   "cell_type": "code",
   "execution_count": 5,
   "metadata": {},
   "outputs": [],
   "source": [
    "from sklearn.model_selection import train_test_split"
   ]
  },
  {
   "cell_type": "code",
   "execution_count": 6,
   "metadata": {},
   "outputs": [],
   "source": [
    "# documents is X, target is y\n",
    "# Now split the data to training set and test set\n",
    "# start with a big \"test_size\", since large training set can easily crash the laptop..\n",
    "X_train, X_test, y_train, y_test = train_test_split(documents, target, test_size=.3, random_state=3)"
   ]
  },
  {
   "cell_type": "markdown",
   "metadata": {},
   "source": [
    "### Get NLP representation of the documents\n",
    "\n",
    "#### Fit TfidfVectorizer with training data only, then tranform all the data to tf-idf"
   ]
  },
  {
   "cell_type": "code",
   "execution_count": 7,
   "metadata": {},
   "outputs": [],
   "source": [
    "from sklearn.feature_extraction.text import TfidfVectorizer"
   ]
  },
  {
   "cell_type": "code",
   "execution_count": 8,
   "metadata": {},
   "outputs": [],
   "source": [
    "# Create TfidfVectorizer, and name it vectorizer, choose a reasonable max_features, e.g. 1000\n",
    "from sklearn.feature_extraction.text import TfidfVectorizer\n",
    "\n",
    "tfidfvectorizer = TfidfVectorizer(stop_words='english', max_features=1000)"
   ]
  },
  {
   "cell_type": "code",
   "execution_count": 9,
   "metadata": {},
   "outputs": [],
   "source": [
    "# Train the model with training data\n",
    "X_train_trans = tfidfvectorizer.fit_transform(X_train)"
   ]
  },
  {
   "cell_type": "code",
   "execution_count": 10,
   "metadata": {},
   "outputs": [
    {
     "name": "stdout",
     "output_type": "stream",
     "text": [
      "1000\n"
     ]
    }
   ],
   "source": [
    "# Get the vocab of your tfidf\n",
    "print(len(tfidfvectorizer.get_feature_names()))\n",
    "vocab = tfidfvectorizer.get_feature_names()"
   ]
  },
  {
   "cell_type": "code",
   "execution_count": 11,
   "metadata": {},
   "outputs": [],
   "source": [
    "# Use the trained model to transform all the reviews\n",
    "X_test_trans = tfidfvectorizer.transform(X_test)"
   ]
  },
  {
   "cell_type": "markdown",
   "metadata": {},
   "source": [
    "### Cluster reviews with KMeans"
   ]
  },
  {
   "cell_type": "markdown",
   "metadata": {},
   "source": [
    "#### Fit k-means clustering with the training vectors and apply it on all the data"
   ]
  },
  {
   "cell_type": "code",
   "execution_count": 12,
   "metadata": {},
   "outputs": [
    {
     "data": {
      "text/plain": [
       "KMeans(algorithm='auto', copy_x=True, init='k-means++', max_iter=100,\n",
       "    n_clusters=2, n_init=10, n_jobs=None, precompute_distances='auto',\n",
       "    random_state=None, tol=0.0001, verbose=0)"
      ]
     },
     "execution_count": 12,
     "metadata": {},
     "output_type": "execute_result"
    }
   ],
   "source": [
    "from sklearn.cluster import KMeans\n",
    "\n",
    "kmeans = KMeans(n_clusters=2, max_iter=100)\n",
    "\n",
    "kmeans.fit(X_train_trans)"
   ]
  },
  {
   "cell_type": "code",
   "execution_count": 13,
   "metadata": {},
   "outputs": [
    {
     "data": {
      "text/plain": [
       "array([[0.97064975, 0.9770163 ],\n",
       "       [0.98941578, 0.95239868],\n",
       "       [0.97731814, 0.9760926 ],\n",
       "       ...,\n",
       "       [0.98767799, 0.95149616],\n",
       "       [0.99548136, 0.98182466],\n",
       "       [0.97584691, 0.98142363]])"
      ]
     },
     "execution_count": 13,
     "metadata": {},
     "output_type": "execute_result"
    }
   ],
   "source": [
    "kmeans.transform(X_test_trans)"
   ]
  },
  {
   "cell_type": "markdown",
   "metadata": {},
   "source": [
    "#### Make predictions on all your data"
   ]
  },
  {
   "cell_type": "code",
   "execution_count": 14,
   "metadata": {},
   "outputs": [],
   "source": [
    "X_train_pred = kmeans.predict(X_train_trans)\n",
    "X_test_pred = kmeans.predict(X_test_trans)"
   ]
  },
  {
   "cell_type": "markdown",
   "metadata": {},
   "source": [
    "#### Inspect the centroids\n",
    "To find out what \"topics\" Kmeans has discovered we must inspect the centroids. Print out the centroids of the Kmeans clustering.\n",
    "\n",
    "   These centroids are simply a bunch of vectors.  To make any sense of them we need to map these vectors back into our 'word space'.  Think of each feature/dimension of the centroid vector as representing the \"average\" review or the average occurances of words for that cluster."
   ]
  },
  {
   "cell_type": "code",
   "execution_count": 15,
   "metadata": {},
   "outputs": [
    {
     "data": {
      "text/plain": [
       "array([[0.00323478, 0.01031624, 0.00237968, ..., 0.00191143, 0.00314782,\n",
       "        0.00572376],\n",
       "       [0.00079248, 0.00429891, 0.00150226, ..., 0.00107785, 0.00303416,\n",
       "        0.00704152]])"
      ]
     },
     "execution_count": 15,
     "metadata": {},
     "output_type": "execute_result"
    }
   ],
   "source": [
    "kmeans.cluster_centers_"
   ]
  },
  {
   "cell_type": "markdown",
   "metadata": {},
   "source": [
    "#### Find the top 10 features for each cluster.\n",
    "For topics we are only really interested in the most present words, i.e. features/dimensions with the greatest representation in the centroid.  Print out the top ten words for each centroid.\n",
    "\n",
    "* Sort each centroid vector to find the top 10 features\n",
    "* Go back to your vectorizer object to find out what words each of these features corresponds to.\n"
   ]
  },
  {
   "cell_type": "code",
   "execution_count": 17,
   "metadata": {},
   "outputs": [
    {
     "name": "stdout",
     "output_type": "stream",
     "text": [
      "top features for each cluster with 1000 max features:\n",
      "0: good, food, place, just, like, time, ordered, order, chicken, service\n",
      "1: great, food, service, place, amazing, good, love, best, friendly, vegas\n"
     ]
    }
   ],
   "source": [
    "top_centroids = kmeans.cluster_centers_.argsort()[:,-1:-11:-1]\n",
    "print(\"top features for each cluster with 1000 max features:\")\n",
    "for num, centroid in enumerate(top_centroids):\n",
    "    print(\"%d: %s\" % (num, \", \".join(vocab[i] for i in centroid)))"
   ]
  },
  {
   "cell_type": "markdown",
   "metadata": {},
   "source": [
    "#### Print out the review of a random sample of the reviews assigned to each cluster to get a sense of topic"
   ]
  },
  {
   "cell_type": "code",
   "execution_count": 48,
   "metadata": {},
   "outputs": [
    {
     "name": "stdout",
     "output_type": "stream",
     "text": [
      "Moscow mule - 15\r\n",
      "COCO mojo - 15\r\n",
      " Probably my least favorite Moscow Mule to date. It was mostly ice, the drink was gone I a matter of sips, and it was lacking in flavor, possibly because it was mostly ice. I know this is Vegas, but this was a bit ridiculous. The Coco mojo was probably not worth $15 but ok. Coconut rum drink, not that special. \r\n",
      "\r\n",
      "Those things being said we ventured back I later (we were staying at the Aria, which I HIGHLY recommend, and this place is nestled just out the side door) this time we tried several apps, and some new drinks. I'm not usually into \"adult shakes\" it mudslide type drinks because I think the alcohol is usually lost in the sweetness. That being said, their Irish shake is THE BEST! I could really taste the Jameson and it was delicious down to the last drop! I recommend all their apps, the only down side here was they were much more filling than we expected, we had dinner reservations later in the evening and this definitely hindered our appetite later. Oops! So for next time, I know what I'm having, and what I'm not!\n",
      "The staff is really friendly but a little ditzy so make sure you pay attention to what you're ordering and when they make it. It's not always the same. It's really tasty. I highly recommend the ahi tuna with mango habanero, avocado and cucumbers.\n",
      "Vegan Tex-Mex on The Strip? Yesss! Not a huge fan of the flavor of the vegan queso but the nachos are overall pretty good. The vegan chick'n fajita/taco bowl was tasty with a top notch chicken substitute. Can't go wrong with a margarita on the side, especially when it's free with Yelp check-in and an entree purchase. Would return to try the other vegan dishes!\n",
      "I love this place esp late at night. Never crowded. Always clean. \r\n",
      "I come here mostly for seafood. Tuna, crabs and salmon. Im also a fan of tge cold pasta salad. Super yummy!\r\n",
      "And of course you can not just pass on the fritters. As big as my face! I esp like the strawberry and blueberry. Apple? Not so much! \r\n",
      "Its close to my house too. 2 thumbs up!\n",
      "Try a 22 oz draft beer that's 29 degrees or less and watch over the las vegas strip.\r\n",
      "At Twin Peaks on Las Vegas Blvd next to Planet Hollywood Hotel  and Casino.\n",
      "If you are anywhere near Durango & Spring Mountain (or even if you are not) you have to try it out! The Crepe Suzette with orange jam and gran mariner was the daily special, our Lulu was vanilla chestnut jam, and the savory Matt had mushrooms, chicken, and cheese with a small side salad (and delicious dressing too). It was all incredibly good. The great meal combined with the warm atmosphere created by Maggie (who is there and super friendly) makes this a must for everyone's list of places to visit. Yum!!\n"
     ]
    }
   ],
   "source": [
    "assigned_cluster = kmeans.transform(X_train_trans).argmin(axis=1)\n",
    "for i in range(kmeans.n_clusters):\n",
    "    cluster = np.arange(0, X_train_trans.shape[0])[assigned_cluster==i]\n",
    "    sample_reviews = np.random.choice(cluster, 3, replace=False)\n",
    "    for review in sample_reviews:\n",
    "        print(\"%s\" % df.loc[review]['text'])"
   ]
  },
  {
   "cell_type": "markdown",
   "metadata": {},
   "source": [
    "#### Try different k\n",
    "If set k == to a different number, how does the top features change?"
   ]
  },
  {
   "cell_type": "code",
   "execution_count": null,
   "metadata": {
    "collapsed": true
   },
   "outputs": [],
   "source": [
    "kmeans_5 = KMeans(n_clusters=5)\n",
    "kmeans_5.fit(X_train_trans)\n",
    "top_centroids_5 = kmeans_5.cluster_centers_.argsort()[:, -1:-11:-1]\n",
    "print('top features for each cluster')\n",
    "for num, centroid in enumerate(top_centroids_5):\n",
    "    print('%d: %s' % (num, \", \".join(vocab[i] for i in centroid)))"
   ]
  },
  {
   "cell_type": "markdown",
   "metadata": {},
   "source": [
    "#### Print out the rating and review of a random sample of the reviews assigned to each cluster to get a sense of the cluster."
   ]
  },
  {
   "cell_type": "code",
   "execution_count": 51,
   "metadata": {},
   "outputs": [
    {
     "name": "stdout",
     "output_type": "stream",
     "text": [
      "cluster 0\n",
      "3 I agree with all the other 3000 yelpers. This place is A-OK. Serendipity is known for their desserts, especially the frozen hot chocolate. Unfortunately, Serendipity is WAY overpriced for mediocre food.\r\n",
      "\r\n",
      "The service was surprisingly slow given we only ordered one thing - a one-person portion of the frozen hot chocolate. But anyhow, the frozen hot chocolate was a good way to clench our sweet thirst after walking up and down The Strip. I just can't justify how that dinky cup (okay, it was not THAT dinky) was $10.\n",
      "4 Love the food here for a great price. Always come before seeing shows at the Smith Center. My favorite is Pad Thai and the Spring Rolls are delicious.\n",
      "1 Went here last week, Employees were rude and basically really didn't care. They were out of supplies so instead of telling me I just didn't get what I paid for.  I asked for two salads one Vegetarian which should have then got extra beans and rice which I didn't get, Then was charged $1.00 for extra sauce.  Ordered nino quesadillas and they were left on grill too long and was given to me burnt.    Girl at register was very rude, will not return to this location.  Very sad!!\n",
      "\n",
      "cluster 1\n",
      "5 Amazing ramen! Can't get enough of it! Wish there was one in Henderson so I didn't have to drive!\n",
      "5 5 stars for the excellent service. Had an issue with my food and Ryan, the manager, came out right away to rectify the situation without me even having to ask to speak to a manager. I truly appreciated.\n",
      "5 Hot pot joint in Vegas, brisket all day and beef combo. Make your own sauce, I would suggest going with the fried fresh garlic, ponzu, and chili sauce. For the broth, opt for the yin yang and get the tomato and entry level spicy!\n",
      "\n"
     ]
    }
   ],
   "source": [
    "assigned_cluster = kmeans.transform(X_train_trans).argmin(axis=1)\n",
    "for i in range(kmeans.n_clusters):\n",
    "    cluster = np.arange(0, X_train_trans.shape[0])[assigned_cluster==i]\n",
    "    samples = np.random.choice(cluster, 3, replace=False)\n",
    "    print(\"cluster %d\" % i )\n",
    "    for sample in samples:\n",
    "        print(\"%d %s\" % (df.loc[sample]['stars'], df.loc[sample]['text']))\n",
    "    print()"
   ]
  },
  {
   "cell_type": "markdown",
   "metadata": {},
   "source": [
    "## 2. Cluster all the reviews of the most reviewed restaurant\n",
    "Let's find the most reviewed restaurant and analyze its reviews"
   ]
  },
  {
   "cell_type": "code",
   "execution_count": 63,
   "metadata": {},
   "outputs": [
    {
     "name": "stdout",
     "output_type": "stream",
     "text": [
      "RESDUcs7fIiihp38-d6_6g\n"
     ]
    }
   ],
   "source": [
    "# Find the business who got most reviews, get filtered df, name it df_top_restaurant\n",
    "df_top_restaurant = df.business_id.value_counts().index[0]\n",
    "print(df_top_restaurant)"
   ]
  },
  {
   "cell_type": "markdown",
   "metadata": {},
   "source": [
    "We can also load restaurant profile information from the business dataset (optional)"
   ]
  },
  {
   "cell_type": "code",
   "execution_count": 64,
   "metadata": {},
   "outputs": [
    {
     "data": {
      "text/html": [
       "<div>\n",
       "<style scoped>\n",
       "    .dataframe tbody tr th:only-of-type {\n",
       "        vertical-align: middle;\n",
       "    }\n",
       "\n",
       "    .dataframe tbody tr th {\n",
       "        vertical-align: top;\n",
       "    }\n",
       "\n",
       "    .dataframe thead th {\n",
       "        text-align: right;\n",
       "    }\n",
       "</style>\n",
       "<table border=\"1\" class=\"dataframe\">\n",
       "  <thead>\n",
       "    <tr style=\"text-align: right;\">\n",
       "      <th></th>\n",
       "      <th>business_id</th>\n",
       "      <th>name</th>\n",
       "      <th>categories</th>\n",
       "      <th>avg_stars</th>\n",
       "    </tr>\n",
       "  </thead>\n",
       "  <tbody>\n",
       "    <tr>\n",
       "      <th>6026</th>\n",
       "      <td>RESDUcs7fIiihp38-d6_6g</td>\n",
       "      <td>Bacchanal Buffet</td>\n",
       "      <td>Sandwiches, Buffets, Breakfast &amp; Brunch, Food,...</td>\n",
       "      <td>4.0</td>\n",
       "    </tr>\n",
       "  </tbody>\n",
       "</table>\n",
       "</div>"
      ],
      "text/plain": [
       "                 business_id              name  \\\n",
       "6026  RESDUcs7fIiihp38-d6_6g  Bacchanal Buffet   \n",
       "\n",
       "                                             categories  avg_stars  \n",
       "6026  Sandwiches, Buffets, Breakfast & Brunch, Food,...        4.0  "
      ]
     },
     "execution_count": 64,
     "metadata": {},
     "output_type": "execute_result"
    }
   ],
   "source": [
    "# Load business dataset (optional)\n",
    "# Take a look at the most reviewed restaurant's profile (optional)\n",
    "df_business = pd.read_csv('../data/selected_business.csv', encoding = \"ISO-8859-1\")\n",
    "df_business[df_business.business_id.values == df_top_restaurant]"
   ]
  },
  {
   "cell_type": "markdown",
   "metadata": {},
   "source": [
    "### Vectorize the text feature"
   ]
  },
  {
   "cell_type": "code",
   "execution_count": 121,
   "metadata": {},
   "outputs": [
    {
     "data": {
      "text/html": [
       "<div>\n",
       "<style scoped>\n",
       "    .dataframe tbody tr th:only-of-type {\n",
       "        vertical-align: middle;\n",
       "    }\n",
       "\n",
       "    .dataframe tbody tr th {\n",
       "        vertical-align: top;\n",
       "    }\n",
       "\n",
       "    .dataframe thead th {\n",
       "        text-align: right;\n",
       "    }\n",
       "</style>\n",
       "<table border=\"1\" class=\"dataframe\">\n",
       "  <thead>\n",
       "    <tr style=\"text-align: right;\">\n",
       "      <th></th>\n",
       "      <th>business_id</th>\n",
       "      <th>cool</th>\n",
       "      <th>date</th>\n",
       "      <th>funny</th>\n",
       "      <th>review_id</th>\n",
       "      <th>stars</th>\n",
       "      <th>text</th>\n",
       "      <th>useful</th>\n",
       "      <th>user_id</th>\n",
       "      <th>address</th>\n",
       "      <th>...</th>\n",
       "      <th>hours</th>\n",
       "      <th>is_open</th>\n",
       "      <th>latitude</th>\n",
       "      <th>longitude</th>\n",
       "      <th>name</th>\n",
       "      <th>neighborhood</th>\n",
       "      <th>postal_code</th>\n",
       "      <th>review_count</th>\n",
       "      <th>avg_stars</th>\n",
       "      <th>state</th>\n",
       "    </tr>\n",
       "  </thead>\n",
       "  <tbody>\n",
       "    <tr>\n",
       "      <th>283639</th>\n",
       "      <td>RESDUcs7fIiihp38-d6_6g</td>\n",
       "      <td>0</td>\n",
       "      <td>2015-09-16</td>\n",
       "      <td>0</td>\n",
       "      <td>gkcPdbblTvZDMSwx8nVEKw</td>\n",
       "      <td>5</td>\n",
       "      <td>Got here early on football Sunday 7:30am as I ...</td>\n",
       "      <td>0</td>\n",
       "      <td>SKteB5rgDlkkUa1Zxe1N0Q</td>\n",
       "      <td>3570 S Las Vegas Blvd</td>\n",
       "      <td>...</td>\n",
       "      <td>{'Monday': '7:30-22:0', 'Tuesday': '7:30-22:0'...</td>\n",
       "      <td>1.0</td>\n",
       "      <td>36.116113</td>\n",
       "      <td>-115.176222</td>\n",
       "      <td>Bacchanal Buffet</td>\n",
       "      <td>The Strip</td>\n",
       "      <td>89109.0</td>\n",
       "      <td>7866.0</td>\n",
       "      <td>4.0</td>\n",
       "      <td>NV</td>\n",
       "    </tr>\n",
       "    <tr>\n",
       "      <th>283640</th>\n",
       "      <td>RESDUcs7fIiihp38-d6_6g</td>\n",
       "      <td>0</td>\n",
       "      <td>2017-09-09</td>\n",
       "      <td>0</td>\n",
       "      <td>mQfl6ci46mu0xaZrkRUhlA</td>\n",
       "      <td>5</td>\n",
       "      <td>This buffet is amazing.  Yes, it is expensive,...</td>\n",
       "      <td>0</td>\n",
       "      <td>f638AHA_GoHbyDB7VFMz7A</td>\n",
       "      <td>3570 S Las Vegas Blvd</td>\n",
       "      <td>...</td>\n",
       "      <td>{'Monday': '7:30-22:0', 'Tuesday': '7:30-22:0'...</td>\n",
       "      <td>1.0</td>\n",
       "      <td>36.116113</td>\n",
       "      <td>-115.176222</td>\n",
       "      <td>Bacchanal Buffet</td>\n",
       "      <td>The Strip</td>\n",
       "      <td>89109.0</td>\n",
       "      <td>7866.0</td>\n",
       "      <td>4.0</td>\n",
       "      <td>NV</td>\n",
       "    </tr>\n",
       "    <tr>\n",
       "      <th>283641</th>\n",
       "      <td>RESDUcs7fIiihp38-d6_6g</td>\n",
       "      <td>0</td>\n",
       "      <td>2017-02-08</td>\n",
       "      <td>0</td>\n",
       "      <td>lMarDJDg4-e_0YoJOKJoWA</td>\n",
       "      <td>2</td>\n",
       "      <td>This place....lol our server was nice.  But fo...</td>\n",
       "      <td>0</td>\n",
       "      <td>A21zMqdN76ueLZFpmbue0Q</td>\n",
       "      <td>3570 S Las Vegas Blvd</td>\n",
       "      <td>...</td>\n",
       "      <td>{'Monday': '7:30-22:0', 'Tuesday': '7:30-22:0'...</td>\n",
       "      <td>1.0</td>\n",
       "      <td>36.116113</td>\n",
       "      <td>-115.176222</td>\n",
       "      <td>Bacchanal Buffet</td>\n",
       "      <td>The Strip</td>\n",
       "      <td>89109.0</td>\n",
       "      <td>7866.0</td>\n",
       "      <td>4.0</td>\n",
       "      <td>NV</td>\n",
       "    </tr>\n",
       "    <tr>\n",
       "      <th>283642</th>\n",
       "      <td>RESDUcs7fIiihp38-d6_6g</td>\n",
       "      <td>0</td>\n",
       "      <td>2017-12-22</td>\n",
       "      <td>0</td>\n",
       "      <td>30xmXTzJwHPcqt0uvSLQhQ</td>\n",
       "      <td>3</td>\n",
       "      <td>One star knocked off for the cold air conditio...</td>\n",
       "      <td>0</td>\n",
       "      <td>uNHEnP28MMmVy96ZSJKaMA</td>\n",
       "      <td>3570 S Las Vegas Blvd</td>\n",
       "      <td>...</td>\n",
       "      <td>{'Monday': '7:30-22:0', 'Tuesday': '7:30-22:0'...</td>\n",
       "      <td>1.0</td>\n",
       "      <td>36.116113</td>\n",
       "      <td>-115.176222</td>\n",
       "      <td>Bacchanal Buffet</td>\n",
       "      <td>The Strip</td>\n",
       "      <td>89109.0</td>\n",
       "      <td>7866.0</td>\n",
       "      <td>4.0</td>\n",
       "      <td>NV</td>\n",
       "    </tr>\n",
       "    <tr>\n",
       "      <th>283643</th>\n",
       "      <td>RESDUcs7fIiihp38-d6_6g</td>\n",
       "      <td>0</td>\n",
       "      <td>2015-02-21</td>\n",
       "      <td>0</td>\n",
       "      <td>g8ojbzP1xoX9dbDfQv2KJw</td>\n",
       "      <td>5</td>\n",
       "      <td>Miche better experience this time around. We w...</td>\n",
       "      <td>0</td>\n",
       "      <td>3cZPpN-IrA8CSc5PkZLbXA</td>\n",
       "      <td>3570 S Las Vegas Blvd</td>\n",
       "      <td>...</td>\n",
       "      <td>{'Monday': '7:30-22:0', 'Tuesday': '7:30-22:0'...</td>\n",
       "      <td>1.0</td>\n",
       "      <td>36.116113</td>\n",
       "      <td>-115.176222</td>\n",
       "      <td>Bacchanal Buffet</td>\n",
       "      <td>The Strip</td>\n",
       "      <td>89109.0</td>\n",
       "      <td>7866.0</td>\n",
       "      <td>4.0</td>\n",
       "      <td>NV</td>\n",
       "    </tr>\n",
       "  </tbody>\n",
       "</table>\n",
       "<p>5 rows × 23 columns</p>\n",
       "</div>"
      ],
      "text/plain": [
       "                   business_id  cool        date  funny  \\\n",
       "283639  RESDUcs7fIiihp38-d6_6g     0  2015-09-16      0   \n",
       "283640  RESDUcs7fIiihp38-d6_6g     0  2017-09-09      0   \n",
       "283641  RESDUcs7fIiihp38-d6_6g     0  2017-02-08      0   \n",
       "283642  RESDUcs7fIiihp38-d6_6g     0  2017-12-22      0   \n",
       "283643  RESDUcs7fIiihp38-d6_6g     0  2015-02-21      0   \n",
       "\n",
       "                     review_id  stars  \\\n",
       "283639  gkcPdbblTvZDMSwx8nVEKw      5   \n",
       "283640  mQfl6ci46mu0xaZrkRUhlA      5   \n",
       "283641  lMarDJDg4-e_0YoJOKJoWA      2   \n",
       "283642  30xmXTzJwHPcqt0uvSLQhQ      3   \n",
       "283643  g8ojbzP1xoX9dbDfQv2KJw      5   \n",
       "\n",
       "                                                     text  useful  \\\n",
       "283639  Got here early on football Sunday 7:30am as I ...       0   \n",
       "283640  This buffet is amazing.  Yes, it is expensive,...       0   \n",
       "283641  This place....lol our server was nice.  But fo...       0   \n",
       "283642  One star knocked off for the cold air conditio...       0   \n",
       "283643  Miche better experience this time around. We w...       0   \n",
       "\n",
       "                       user_id                address  ...    \\\n",
       "283639  SKteB5rgDlkkUa1Zxe1N0Q  3570 S Las Vegas Blvd  ...     \n",
       "283640  f638AHA_GoHbyDB7VFMz7A  3570 S Las Vegas Blvd  ...     \n",
       "283641  A21zMqdN76ueLZFpmbue0Q  3570 S Las Vegas Blvd  ...     \n",
       "283642  uNHEnP28MMmVy96ZSJKaMA  3570 S Las Vegas Blvd  ...     \n",
       "283643  3cZPpN-IrA8CSc5PkZLbXA  3570 S Las Vegas Blvd  ...     \n",
       "\n",
       "                                                    hours is_open   latitude  \\\n",
       "283639  {'Monday': '7:30-22:0', 'Tuesday': '7:30-22:0'...     1.0  36.116113   \n",
       "283640  {'Monday': '7:30-22:0', 'Tuesday': '7:30-22:0'...     1.0  36.116113   \n",
       "283641  {'Monday': '7:30-22:0', 'Tuesday': '7:30-22:0'...     1.0  36.116113   \n",
       "283642  {'Monday': '7:30-22:0', 'Tuesday': '7:30-22:0'...     1.0  36.116113   \n",
       "283643  {'Monday': '7:30-22:0', 'Tuesday': '7:30-22:0'...     1.0  36.116113   \n",
       "\n",
       "         longitude              name  neighborhood  postal_code review_count  \\\n",
       "283639 -115.176222  Bacchanal Buffet     The Strip      89109.0       7866.0   \n",
       "283640 -115.176222  Bacchanal Buffet     The Strip      89109.0       7866.0   \n",
       "283641 -115.176222  Bacchanal Buffet     The Strip      89109.0       7866.0   \n",
       "283642 -115.176222  Bacchanal Buffet     The Strip      89109.0       7866.0   \n",
       "283643 -115.176222  Bacchanal Buffet     The Strip      89109.0       7866.0   \n",
       "\n",
       "       avg_stars  state  \n",
       "283639       4.0     NV  \n",
       "283640       4.0     NV  \n",
       "283641       4.0     NV  \n",
       "283642       4.0     NV  \n",
       "283643       4.0     NV  \n",
       "\n",
       "[5 rows x 23 columns]"
      ]
     },
     "execution_count": 121,
     "metadata": {},
     "output_type": "execute_result"
    }
   ],
   "source": [
    "top_res = df[df.business_id == df_top_restaurant]\n",
    "top_res.head()"
   ]
  },
  {
   "cell_type": "code",
   "execution_count": 104,
   "metadata": {},
   "outputs": [
    {
     "data": {
      "text/plain": [
       "(4923,)"
      ]
     },
     "execution_count": 104,
     "metadata": {},
     "output_type": "execute_result"
    }
   ],
   "source": [
    "# Take the values of the column that contains review text data, save to a variable named \"documents_top_restaurant\"\n",
    "documents_top_restaurant = top_res.text.values\n",
    "documents_top_restaurant.shape"
   ]
  },
  {
   "cell_type": "markdown",
   "metadata": {},
   "source": [
    "### Define target variable (for later classification use)"
   ]
  },
  {
   "cell_type": "markdown",
   "metadata": {},
   "source": [
    "#### Again, we look at perfect (5 stars) and imperfect (1-4 stars) rating"
   ]
  },
  {
   "cell_type": "code",
   "execution_count": 105,
   "metadata": {},
   "outputs": [
    {
     "data": {
      "text/plain": [
       "(4923,)"
      ]
     },
     "execution_count": 105,
     "metadata": {},
     "output_type": "execute_result"
    }
   ],
   "source": [
    "top_res_target = top_res.stars.apply(lambda x: 1 if x == 5 else 0)\n",
    "top_res_target.shape"
   ]
  },
  {
   "cell_type": "markdown",
   "metadata": {},
   "source": [
    "#### Check the statistic of the target variable"
   ]
  },
  {
   "cell_type": "code",
   "execution_count": 106,
   "metadata": {},
   "outputs": [
    {
     "name": "stdout",
     "output_type": "stream",
     "text": [
      "0.38939670932358317\n",
      "0.4876630179362759\n"
     ]
    },
    {
     "data": {
      "text/plain": [
       "(array([3006.,    0., 1917.]),\n",
       " array([0.        , 0.33333333, 0.66666667, 1.        ]),\n",
       " <a list of 3 Patch objects>)"
      ]
     },
     "execution_count": 106,
     "metadata": {},
     "output_type": "execute_result"
    },
    {
     "data": {
      "image/png": "[encoded data removed]",
      "text/plain": [
       "<Figure size 432x288 with 1 Axes>"
      ]
     },
     "metadata": {
      "needs_background": "light"
     },
     "output_type": "display_data"
    }
   ],
   "source": [
    "print(top_res_target.mean())\n",
    "print(top_res_target.std())\n",
    "\n",
    "plt.hist(top_res_target, bins=3)"
   ]
  },
  {
   "cell_type": "markdown",
   "metadata": {},
   "source": [
    "### Create training dataset and test dataset"
   ]
  },
  {
   "cell_type": "code",
   "execution_count": 107,
   "metadata": {},
   "outputs": [],
   "source": [
    "from sklearn.model_selection import train_test_split"
   ]
  },
  {
   "cell_type": "code",
   "execution_count": 108,
   "metadata": {},
   "outputs": [],
   "source": [
    "# documents_top_restaurant is X, target_top_restaurant is y\n",
    "# Now split the data to training set and test set\n",
    "X_train, X_test, y_train, y_test = train_test_split(documents_top_restaurant, top_res_target, test_size=0.2, random_state=3)"
   ]
  },
  {
   "cell_type": "markdown",
   "metadata": {},
   "source": [
    "### Get NLP representation of the documents"
   ]
  },
  {
   "cell_type": "code",
   "execution_count": 109,
   "metadata": {},
   "outputs": [],
   "source": [
    "from sklearn.feature_extraction.text import TfidfVectorizer"
   ]
  },
  {
   "cell_type": "code",
   "execution_count": 110,
   "metadata": {},
   "outputs": [],
   "source": [
    "# Create TfidfVectorizer, and name it vectorizer\n",
    "vectorizer = TfidfVectorizer(stop_words='english', max_features=1000)"
   ]
  },
  {
   "cell_type": "code",
   "execution_count": 111,
   "metadata": {},
   "outputs": [],
   "source": [
    "# Train the model with training data\n",
    "X_train_trans = vectorizer.fit_transform(X_train)"
   ]
  },
  {
   "cell_type": "code",
   "execution_count": 112,
   "metadata": {},
   "outputs": [
    {
     "data": {
      "text/plain": [
       "['00',\n",
       " '10',\n",
       " '100',\n",
       " '11',\n",
       " '12',\n",
       " '15',\n",
       " '18',\n",
       " '20',\n",
       " '24',\n",
       " '25',\n",
       " '30',\n",
       " '30pm',\n",
       " '35',\n",
       " '3pm',\n",
       " '40',\n",
       " '45',\n",
       " '50',\n",
       " '54',\n",
       " '55',\n",
       " '57',\n",
       " '59',\n",
       " '60',\n",
       " '65',\n",
       " '70',\n",
       " '75',\n",
       " '80',\n",
       " '90',\n",
       " '99',\n",
       " 'able',\n",
       " 'absolutely',\n",
       " 'actual',\n",
       " 'actually',\n",
       " 'add',\n",
       " 'added',\n",
       " 'additional',\n",
       " 'afternoon',\n",
       " 'ago',\n",
       " 'ahead',\n",
       " 'alaskan',\n",
       " 'alcohol',\n",
       " 'alright',\n",
       " 'amazing',\n",
       " 'ambiance',\n",
       " 'american',\n",
       " 'anymore',\n",
       " 'appetite',\n",
       " 'area',\n",
       " 'aren',\n",
       " 'aria',\n",
       " 'array',\n",
       " 'arrive',\n",
       " 'arrived',\n",
       " 'asian',\n",
       " 'ask',\n",
       " 'asked',\n",
       " 'assortment',\n",
       " 'ate',\n",
       " 'atmosphere',\n",
       " 'attention',\n",
       " 'attentive',\n",
       " 'authentic',\n",
       " 'available',\n",
       " 'average',\n",
       " 'avoid',\n",
       " 'away',\n",
       " 'awesome',\n",
       " 'awful',\n",
       " 'bacchanal',\n",
       " 'bacon',\n",
       " 'bad',\n",
       " 'baked',\n",
       " 'bar',\n",
       " 'barely',\n",
       " 'based',\n",
       " 'basically',\n",
       " 'bass',\n",
       " 'bbq',\n",
       " 'beat',\n",
       " 'beautiful',\n",
       " 'beef',\n",
       " 'beer',\n",
       " 'believe',\n",
       " 'bellagio',\n",
       " 'belly',\n",
       " 'benedict',\n",
       " 'best',\n",
       " 'better',\n",
       " 'big',\n",
       " 'bigger',\n",
       " 'biggest',\n",
       " 'birthday',\n",
       " 'bisque',\n",
       " 'bit',\n",
       " 'bite',\n",
       " 'bland',\n",
       " 'bloody',\n",
       " 'boba',\n",
       " 'boiled',\n",
       " 'bomb',\n",
       " 'bone',\n",
       " 'bother',\n",
       " 'bottles',\n",
       " 'bottomless',\n",
       " 'boyfriend',\n",
       " 'br',\n",
       " 'bread',\n",
       " 'breakfast',\n",
       " 'bring',\n",
       " 'brisket',\n",
       " 'broth',\n",
       " 'brought',\n",
       " 'brulee',\n",
       " 'brunch',\n",
       " 'bucks',\n",
       " 'buffet',\n",
       " 'buffets',\n",
       " 'buffett',\n",
       " 'bunch',\n",
       " 'buns',\n",
       " 'busy',\n",
       " 'butter',\n",
       " 'caesar',\n",
       " 'caesars',\n",
       " 'cake',\n",
       " 'cakes',\n",
       " 'called',\n",
       " 'came',\n",
       " 'card',\n",
       " 'care',\n",
       " 'carrot',\n",
       " 'carving',\n",
       " 'case',\n",
       " 'cashier',\n",
       " 'casino',\n",
       " 'cause',\n",
       " 'certain',\n",
       " 'certainly',\n",
       " 'ceviche',\n",
       " 'champagne',\n",
       " 'chance',\n",
       " 'change',\n",
       " 'changed',\n",
       " 'charcuterie',\n",
       " 'charge',\n",
       " 'charged',\n",
       " 'cheap',\n",
       " 'cheaper',\n",
       " 'check',\n",
       " 'checked',\n",
       " 'checking',\n",
       " 'cheese',\n",
       " 'cheesecake',\n",
       " 'cheeses',\n",
       " 'chef',\n",
       " 'chefs',\n",
       " 'chewy',\n",
       " 'chicken',\n",
       " 'chilled',\n",
       " 'chinese',\n",
       " 'chocolate',\n",
       " 'choice',\n",
       " 'choices',\n",
       " 'choose',\n",
       " 'chops',\n",
       " 'chose',\n",
       " 'christmas',\n",
       " 'clams',\n",
       " 'claws',\n",
       " 'clean',\n",
       " 'clear',\n",
       " 'cleared',\n",
       " 'close',\n",
       " 'cocktail',\n",
       " 'coconut',\n",
       " 'coffee',\n",
       " 'cold',\n",
       " 'come',\n",
       " 'comes',\n",
       " 'coming',\n",
       " 'compare',\n",
       " 'compared',\n",
       " 'completely',\n",
       " 'congee',\n",
       " 'considering',\n",
       " 'constantly',\n",
       " 'cook',\n",
       " 'cooked',\n",
       " 'cookies',\n",
       " 'cool',\n",
       " 'corn',\n",
       " 'corner',\n",
       " 'cost',\n",
       " 'couldn',\n",
       " 'counter',\n",
       " 'couple',\n",
       " 'course',\n",
       " 'covered',\n",
       " 'crab',\n",
       " 'crabs',\n",
       " 'crawfish',\n",
       " 'crazy',\n",
       " 'cream',\n",
       " 'creme',\n",
       " 'crepe',\n",
       " 'crepes',\n",
       " 'crispy',\n",
       " 'crowded',\n",
       " 'cucumber',\n",
       " 'cuisine',\n",
       " 'cuisines',\n",
       " 'cupcakes',\n",
       " 'customer',\n",
       " 'customers',\n",
       " 'cut',\n",
       " 'cute',\n",
       " 'cuts',\n",
       " 'damn',\n",
       " 'day',\n",
       " 'days',\n",
       " 'deal',\n",
       " 'decent',\n",
       " 'decided',\n",
       " 'decor',\n",
       " 'definitely',\n",
       " 'delicious',\n",
       " 'desert',\n",
       " 'deserts',\n",
       " 'despite',\n",
       " 'dessert',\n",
       " 'desserts',\n",
       " 'diamond',\n",
       " 'did',\n",
       " 'didn',\n",
       " 'die',\n",
       " 'difference',\n",
       " 'different',\n",
       " 'dim',\n",
       " 'dine',\n",
       " 'dining',\n",
       " 'dinner',\n",
       " 'dirty',\n",
       " 'disappoint',\n",
       " 'disappointed',\n",
       " 'disappointing',\n",
       " 'disappointment',\n",
       " 'dish',\n",
       " 'dishes',\n",
       " 'display',\n",
       " 'does',\n",
       " 'doesn',\n",
       " 'doing',\n",
       " 'dollar',\n",
       " 'dollars',\n",
       " 'don',\n",
       " 'dont',\n",
       " 'downside',\n",
       " 'dried',\n",
       " 'drink',\n",
       " 'drinks',\n",
       " 'dry',\n",
       " 'duck',\n",
       " 'dumplings',\n",
       " 'earlier',\n",
       " 'early',\n",
       " 'easily',\n",
       " 'easy',\n",
       " 'eat',\n",
       " 'eaten',\n",
       " 'eater',\n",
       " 'eating',\n",
       " 'egg',\n",
       " 'eggs',\n",
       " 'end',\n",
       " 'ended',\n",
       " 'endless',\n",
       " 'enjoy',\n",
       " 'enjoyed',\n",
       " 'enter',\n",
       " 'entire',\n",
       " 'entrance',\n",
       " 'especially',\n",
       " 'evening',\n",
       " 'example',\n",
       " 'excellent',\n",
       " 'excited',\n",
       " 'expect',\n",
       " 'expectations',\n",
       " 'expected',\n",
       " 'expecting',\n",
       " 'expensive',\n",
       " 'experience',\n",
       " 'express',\n",
       " 'extensive',\n",
       " 'extra',\n",
       " 'extremely',\n",
       " 'eyes',\n",
       " 'face',\n",
       " 'fact',\n",
       " 'fair',\n",
       " 'fairly',\n",
       " 'family',\n",
       " 'fan',\n",
       " 'fancy',\n",
       " 'fantastic',\n",
       " 'far',\n",
       " 'fast',\n",
       " 'fat',\n",
       " 'favorite',\n",
       " 'favorites',\n",
       " 'feast',\n",
       " 'feel',\n",
       " 'feeling',\n",
       " 'felt',\n",
       " 'filled',\n",
       " 'filling',\n",
       " 'finally',\n",
       " 'fine',\n",
       " 'finish',\n",
       " 'finished',\n",
       " 'fish',\n",
       " 'flan',\n",
       " 'flavor',\n",
       " 'flavorful',\n",
       " 'flavors',\n",
       " 'food',\n",
       " 'foods',\n",
       " 'forever',\n",
       " 'forget',\n",
       " 'forward',\n",
       " 'free',\n",
       " 'french',\n",
       " 'fresh',\n",
       " 'freshly',\n",
       " 'friday',\n",
       " 'fried',\n",
       " 'friend',\n",
       " 'friendly',\n",
       " 'friends',\n",
       " 'fries',\n",
       " 'frozen',\n",
       " 'fruit',\n",
       " 'fruits',\n",
       " 'fun',\n",
       " 'gave',\n",
       " 'gelato',\n",
       " 'general',\n",
       " 'gets',\n",
       " 'getting',\n",
       " 'given',\n",
       " 'giving',\n",
       " 'glad',\n",
       " 'glass',\n",
       " 'glasses',\n",
       " 'goes',\n",
       " 'going',\n",
       " 'gone',\n",
       " 'gonna',\n",
       " 'good',\n",
       " 'got',\n",
       " 'gotten',\n",
       " 'gourmet',\n",
       " 'grab',\n",
       " 'gratuity',\n",
       " 'great',\n",
       " 'green',\n",
       " 'grits',\n",
       " 'gross',\n",
       " 'group',\n",
       " 'groupon',\n",
       " 'groups',\n",
       " 'guess',\n",
       " 'guy',\n",
       " 'haha',\n",
       " 'half',\n",
       " 'hand',\n",
       " 'hands',\n",
       " 'happened',\n",
       " 'happy',\n",
       " 'hard',\n",
       " 'hate',\n",
       " 'haven',\n",
       " 'having',\n",
       " 'head',\n",
       " 'heard',\n",
       " 'heart',\n",
       " 'heat',\n",
       " 'heaven',\n",
       " 'help',\n",
       " 'helpful',\n",
       " 'high',\n",
       " 'higher',\n",
       " 'highlight',\n",
       " 'highlights',\n",
       " 'highly',\n",
       " 'hit',\n",
       " 'holiday',\n",
       " 'home',\n",
       " 'honestly',\n",
       " 'hope',\n",
       " 'horchata',\n",
       " 'horrible',\n",
       " 'host',\n",
       " 'hostess',\n",
       " 'hot',\n",
       " 'hotel',\n",
       " 'hour',\n",
       " 'hours',\n",
       " 'house',\n",
       " 'hr',\n",
       " 'huge',\n",
       " 'hungry',\n",
       " 'husband',\n",
       " 'hype',\n",
       " 'hyped',\n",
       " 'ice',\n",
       " 'idea',\n",
       " 'imagine',\n",
       " 'immediately',\n",
       " 'impressed',\n",
       " 'impressive',\n",
       " 'include',\n",
       " 'included',\n",
       " 'includes',\n",
       " 'including',\n",
       " 'incredible',\n",
       " 'individual',\n",
       " 'inside',\n",
       " 'instead',\n",
       " 'interesting',\n",
       " 'isn',\n",
       " 'issue',\n",
       " 'italian',\n",
       " 'item',\n",
       " 'items',\n",
       " 'japanese',\n",
       " 'job',\n",
       " 'juice',\n",
       " 'juices',\n",
       " 'juicy',\n",
       " 'just',\n",
       " 'justify',\n",
       " 'kept',\n",
       " 'kids',\n",
       " 'kind',\n",
       " 'kinda',\n",
       " 'kinds',\n",
       " 'king',\n",
       " 'kiosk',\n",
       " 'knew',\n",
       " 'know',\n",
       " 'lack',\n",
       " 'lacking',\n",
       " 'lady',\n",
       " 'lamb',\n",
       " 'large',\n",
       " 'larger',\n",
       " 'las',\n",
       " 'late',\n",
       " 'later',\n",
       " 'lava',\n",
       " 'leave',\n",
       " 'leaving',\n",
       " 'left',\n",
       " 'leg',\n",
       " 'legs',\n",
       " 'lemon',\n",
       " 'let',\n",
       " 'level',\n",
       " 'life',\n",
       " 'like',\n",
       " 'liked',\n",
       " 'limit',\n",
       " 'limited',\n",
       " 'line',\n",
       " 'lines',\n",
       " 'list',\n",
       " 'literally',\n",
       " 'little',\n",
       " 'live',\n",
       " 'll',\n",
       " 'lobster',\n",
       " 'local',\n",
       " 'located',\n",
       " 'lol',\n",
       " 'long',\n",
       " 'longer',\n",
       " 'look',\n",
       " 'looked',\n",
       " 'looking',\n",
       " 'looks',\n",
       " 'lost',\n",
       " 'lot',\n",
       " 'lots',\n",
       " 'love',\n",
       " 'loved',\n",
       " 'low',\n",
       " 'luckily',\n",
       " 'lucky',\n",
       " 'lunch',\n",
       " 'mac',\n",
       " 'macarons',\n",
       " 'macaroons',\n",
       " 'machine',\n",
       " 'main',\n",
       " 'make',\n",
       " 'makes',\n",
       " 'making',\n",
       " 'man',\n",
       " 'management',\n",
       " 'manager',\n",
       " 'mango',\n",
       " 'marrow',\n",
       " 'mashed',\n",
       " 'massive',\n",
       " 'matter',\n",
       " 'maybe',\n",
       " 'meal',\n",
       " 'meals',\n",
       " 'mean',\n",
       " 'means',\n",
       " 'meat',\n",
       " 'meatballs',\n",
       " 'meats',\n",
       " 'mediocre',\n",
       " 'medium',\n",
       " 'meh',\n",
       " 'members',\n",
       " 'memorable',\n",
       " 'mention',\n",
       " 'mentioned',\n",
       " 'menu',\n",
       " 'mexican',\n",
       " 'middle',\n",
       " 'mimosa',\n",
       " 'mimosas',\n",
       " 'min',\n",
       " 'mind',\n",
       " 'mini',\n",
       " 'mins',\n",
       " 'minute',\n",
       " 'minutes',\n",
       " 'miss',\n",
       " 'missed',\n",
       " 'mixed',\n",
       " 'mochi',\n",
       " 'modern',\n",
       " 'monday',\n",
       " 'money',\n",
       " 'morning',\n",
       " 'mouth',\n",
       " 'moved',\n",
       " 'multiple',\n",
       " 'mushroom',\n",
       " 'music',\n",
       " 'mussels',\n",
       " 'near',\n",
       " 'nearly',\n",
       " 'need',\n",
       " 'needed',\n",
       " 'needs',\n",
       " 'new',\n",
       " 'nice',\n",
       " 'night',\n",
       " 'nigiri',\n",
       " 'non',\n",
       " 'noodle',\n",
       " 'noodles',\n",
       " 'normal',\n",
       " 'normally',\n",
       " 'notch',\n",
       " 'note',\n",
       " 'noticed',\n",
       " 'number',\n",
       " 'nutella',\n",
       " 'obviously',\n",
       " 'offer',\n",
       " 'offered',\n",
       " 'offerings',\n",
       " 'offers',\n",
       " 'oh',\n",
       " 'ok',\n",
       " 'okay',\n",
       " 'old',\n",
       " 'omg',\n",
       " 'ones',\n",
       " 'open',\n",
       " 'opened',\n",
       " 'opinion',\n",
       " 'option',\n",
       " 'options',\n",
       " 'orange',\n",
       " 'order',\n",
       " 'outside',\n",
       " 'outstanding',\n",
       " 'overall',\n",
       " 'overcooked',\n",
       " 'overpriced',\n",
       " 'overrated',\n",
       " 'overwhelming',\n",
       " 'oyster',\n",
       " 'oysters',\n",
       " 'packed',\n",
       " 'paella',\n",
       " 'paid',\n",
       " 'palace',\n",
       " 'pancakes',\n",
       " 'par',\n",
       " 'parties',\n",
       " 'party',\n",
       " 'pass',\n",
       " 'past',\n",
       " 'pasta',\n",
       " 'pastas',\n",
       " 'pastries',\n",
       " 'pay',\n",
       " 'paying',\n",
       " 'penny',\n",
       " 'people',\n",
       " 'perfect',\n",
       " 'perfectly',\n",
       " 'person',\n",
       " 'personal',\n",
       " 'personally',\n",
       " 'phenomenal',\n",
       " 'pho',\n",
       " 'phone',\n",
       " 'pick',\n",
       " 'picky',\n",
       " 'pictures',\n",
       " 'piece',\n",
       " 'pieces',\n",
       " 'pig',\n",
       " 'pizza',\n",
       " 'place',\n",
       " 'places',\n",
       " 'plan',\n",
       " 'plate',\n",
       " 'plates',\n",
       " 'platinum',\n",
       " 'plentiful',\n",
       " 'plenty',\n",
       " 'plus',\n",
       " 'pm',\n",
       " 'point',\n",
       " 'poisoning',\n",
       " 'poke',\n",
       " 'poor',\n",
       " 'pops',\n",
       " 'popular',\n",
       " 'pork',\n",
       " 'portion',\n",
       " 'portions',\n",
       " 'possible',\n",
       " 'possibly',\n",
       " 'pot',\n",
       " 'potato',\n",
       " 'potatoes',\n",
       " 'pre',\n",
       " 'prefer',\n",
       " 'prepared',\n",
       " 'presentation',\n",
       " 'presented',\n",
       " 'pretty',\n",
       " 'price',\n",
       " 'priced',\n",
       " 'prices',\n",
       " 'pricey',\n",
       " 'pricing',\n",
       " 'pricy',\n",
       " 'prime',\n",
       " 'probably',\n",
       " 'problem',\n",
       " 'pros',\n",
       " 'pudding',\n",
       " 'quality',\n",
       " 'quantity',\n",
       " 'queue',\n",
       " 'quick',\n",
       " 'quickly',\n",
       " 'quite',\n",
       " 'ramen',\n",
       " 'ran',\n",
       " 'range',\n",
       " 'rare',\n",
       " 'rate',\n",
       " 'rated',\n",
       " 'rating',\n",
       " 'raw',\n",
       " 'read',\n",
       " 'reading',\n",
       " 'ready',\n",
       " 'real',\n",
       " 'realized',\n",
       " 'really',\n",
       " 'reason',\n",
       " 'reasonable',\n",
       " 'receipt',\n",
       " 'received',\n",
       " 'recommend',\n",
       " 'recommended',\n",
       " 'red',\n",
       " 'refill',\n",
       " 'refilled',\n",
       " 'refills',\n",
       " 'regret',\n",
       " 'regular',\n",
       " 'remember',\n",
       " 'reservation',\n",
       " 'rest',\n",
       " 'restaurant',\n",
       " 'restaurants',\n",
       " 'return',\n",
       " 'review',\n",
       " 'reviews',\n",
       " 'rewards',\n",
       " 'rib',\n",
       " 'ribs',\n",
       " 'rice',\n",
       " 'ridiculous',\n",
       " 'right',\n",
       " 'rio',\n",
       " 'roast',\n",
       " 'roasted',\n",
       " 'rolls',\n",
       " 'room',\n",
       " 'round',\n",
       " 'rude',\n",
       " 'run',\n",
       " 'sad',\n",
       " 'sadly',\n",
       " 'said',\n",
       " 'salad',\n",
       " 'salads',\n",
       " 'salmon',\n",
       " 'salt',\n",
       " 'salty',\n",
       " 'sample',\n",
       " 'sashimi',\n",
       " 'sat',\n",
       " 'satisfied',\n",
       " 'saturday',\n",
       " 'sauce',\n",
       " 'sausage',\n",
       " 'sausages',\n",
       " 'save',\n",
       " 'saw',\n",
       " 'say',\n",
       " 'saying',\n",
       " 'says',\n",
       " 'scallops',\n",
       " 'sea',\n",
       " 'seafood',\n",
       " 'seasoned',\n",
       " 'seat',\n",
       " 'seated',\n",
       " 'seating',\n",
       " 'seats',\n",
       " 'second',\n",
       " 'section',\n",
       " 'sections',\n",
       " 'seen',\n",
       " 'selection',\n",
       " 'selections',\n",
       " 'self',\n",
       " 'separate',\n",
       " 'seriously',\n",
       " 'serve',\n",
       " 'served',\n",
       " 'server',\n",
       " 'servers',\n",
       " 'service',\n",
       " 'serving',\n",
       " 'set',\n",
       " 'shell',\n",
       " 'shooters',\n",
       " 'short',\n",
       " 'shorter',\n",
       " 'showed',\n",
       " 'shrimp',\n",
       " 'shrimps',\n",
       " 'sick',\n",
       " 'sign',\n",
       " 'similar',\n",
       " 'simply',\n",
       " 'single',\n",
       " 'sit',\n",
       " 'sitting',\n",
       " 'size',\n",
       " 'skip',\n",
       " 'slice',\n",
       " 'sliced',\n",
       " 'sliders',\n",
       " 'slow',\n",
       " 'small',\n",
       " 'smaller',\n",
       " 'smoked',\n",
       " 'snow',\n",
       " 'soft',\n",
       " 'solid',\n",
       " 'soon',\n",
       " 'sorry',\n",
       " 'sort',\n",
       " 'soup',\n",
       " 'soups',\n",
       " 'sour',\n",
       " 'space',\n",
       " 'special',\n",
       " 'spectacular',\n",
       " 'spend',\n",
       " 'spending',\n",
       " 'spent',\n",
       " 'spicy',\n",
       " 'split',\n",
       " 'splurge',\n",
       " 'spoon',\n",
       " 'spot',\n",
       " 'spread',\n",
       " 'squeezed',\n",
       " 'staff',\n",
       " 'stand',\n",
       " 'standard',\n",
       " 'standing',\n",
       " 'star',\n",
       " 'stars',\n",
       " 'start',\n",
       " 'started',\n",
       " 'station',\n",
       " 'stations',\n",
       " 'stay',\n",
       " 'stayed',\n",
       " 'steak',\n",
       " 'steamed',\n",
       " 'steep',\n",
       " 'stomach',\n",
       " 'stone',\n",
       " 'stood',\n",
       " 'stop',\n",
       " 'straight',\n",
       " 'strawberries',\n",
       " 'strawberry',\n",
       " 'street',\n",
       " 'strip',\n",
       " 'stuff',\n",
       " 'stuffed',\n",
       " 'style',\n",
       " 'sugar',\n",
       " 'suggest',\n",
       " 'sum',\n",
       " 'sunday',\n",
       " 'super',\n",
       " 'supposed',\n",
       " 'sure',\n",
       " 'surprise',\n",
       " 'surprised',\n",
       " 'surprisingly',\n",
       " 'sushi',\n",
       " 'sweet',\n",
       " 'sweets',\n",
       " 'table',\n",
       " 'tables',\n",
       " 'taco',\n",
       " 'tacos',\n",
       " 'tag',\n",
       " 'taken',\n",
       " 'takes',\n",
       " 'taking',\n",
       " 'talk',\n",
       " 'talking',\n",
       " 'tarts',\n",
       " 'taste',\n",
       " 'tasted',\n",
       " 'tasteless',\n",
       " 'tastes',\n",
       " 'tasting',\n",
       " 'tasty',\n",
       " 'tax',\n",
       " 'tea',\n",
       " 'tell',\n",
       " 'telling',\n",
       " 'tender',\n",
       " 'terms',\n",
       " 'terrible',\n",
       " 'text',\n",
       " 'thai',\n",
       " 'thank',\n",
       " 'thanks',\n",
       " 'thanksgiving',\n",
       " 'thing',\n",
       " 'things',\n",
       " 'think',\n",
       " 'thinking',\n",
       " 'thought',\n",
       " 'thursday',\n",
       " 'ticket',\n",
       " 'time',\n",
       " 'times',\n",
       " 'tiny',\n",
       " 'tip',\n",
       " 'tips',\n",
       " 'tiramisu',\n",
       " 'today',\n",
       " 'told',\n",
       " 'ton',\n",
       " 'tons',\n",
       " 'took',\n",
       " 'total',\n",
       " 'totally',\n",
       " 'tots',\n",
       " 'tough',\n",
       " 'town',\n",
       " 'tri',\n",
       " 'tried',\n",
       " 'trip',\n",
       " 'true',\n",
       " 'truffle',\n",
       " 'truly',\n",
       " 'trust',\n",
       " 'try',\n",
       " 'trying',\n",
       " 'tuesday',\n",
       " 'turkey',\n",
       " 'twice',\n",
       " 'type',\n",
       " 'types',\n",
       " 'typical',\n",
       " 'udon',\n",
       " 'understand',\n",
       " 'unfortunately',\n",
       " 'unique',\n",
       " 'unless',\n",
       " 'unlimited',\n",
       " 'upscale',\n",
       " 'use',\n",
       " 'used',\n",
       " 'usual',\n",
       " 'usually',\n",
       " 'value',\n",
       " 'varieties',\n",
       " 'variety',\n",
       " 'various',\n",
       " 've',\n",
       " 'vegas',\n",
       " 'vegetarian',\n",
       " 'velvet',\n",
       " 'vip',\n",
       " 'visit',\n",
       " 'visited',\n",
       " 'visiting',\n",
       " 'waffle',\n",
       " 'waffles',\n",
       " 'wagyu',\n",
       " 'wait',\n",
       " 'waited',\n",
       " 'waiter',\n",
       " 'waiters',\n",
       " 'waiting',\n",
       " 'waitress',\n",
       " 'walk',\n",
       " 'walked',\n",
       " 'walking',\n",
       " 'want',\n",
       " 'wanted',\n",
       " 'warm',\n",
       " 'wasn',\n",
       " 'waste',\n",
       " 'water',\n",
       " 'watermelon',\n",
       " 'way',\n",
       " 'week',\n",
       " 'weekday',\n",
       " 'weekend',\n",
       " 'weekends',\n",
       " 'weird',\n",
       " 'went',\n",
       " 'weren',\n",
       " 'white',\n",
       " 'wicked',\n",
       " 'wide',\n",
       " 'wife',\n",
       " 'wine',\n",
       " 'wise',\n",
       " 'wish',\n",
       " 'won',\n",
       " 'wonderful',\n",
       " 'work',\n",
       " 'working',\n",
       " 'world',\n",
       " 'worse',\n",
       " 'worst',\n",
       " 'worth',\n",
       " 'wouldn',\n",
       " 'wow',\n",
       " 'wrong',\n",
       " 'wynn',\n",
       " 'year',\n",
       " 'years',\n",
       " 'yelp',\n",
       " 'yes',\n",
       " 'yum',\n",
       " 'yummy']"
      ]
     },
     "execution_count": 112,
     "metadata": {},
     "output_type": "execute_result"
    }
   ],
   "source": [
    "# Get the vocab of your tfidf\n",
    "vocab = vectorizer.get_feature_names()\n",
    "vocab"
   ]
  },
  {
   "cell_type": "code",
   "execution_count": 113,
   "metadata": {},
   "outputs": [],
   "source": [
    "# Use the trained model to transform the test data\n",
    "X_test_trans = vectorizer.transform(X_test)"
   ]
  },
  {
   "cell_type": "code",
   "execution_count": 114,
   "metadata": {},
   "outputs": [],
   "source": [
    "# Use the trained model to transform all the data\n",
    "doc_top_vector = vectorizer.transform(documents_top_restaurant)"
   ]
  },
  {
   "cell_type": "markdown",
   "metadata": {},
   "source": [
    "### Cluster reviews with KMeans"
   ]
  },
  {
   "cell_type": "markdown",
   "metadata": {},
   "source": [
    "#### Fit k-means clustering on the training vectors and make predictions on all data"
   ]
  },
  {
   "cell_type": "code",
   "execution_count": 115,
   "metadata": {},
   "outputs": [
    {
     "data": {
      "text/plain": [
       "KMeans(algorithm='auto', copy_x=True, init='k-means++', max_iter=300,\n",
       "    n_clusters=2, n_init=10, n_jobs=None, precompute_distances='auto',\n",
       "    random_state=None, tol=0.0001, verbose=0)"
      ]
     },
     "execution_count": 115,
     "metadata": {},
     "output_type": "execute_result"
    }
   ],
   "source": [
    "kmeans = KMeans(n_clusters=2)\n",
    "\n",
    "kmeans.fit(X_train_trans)"
   ]
  },
  {
   "cell_type": "code",
   "execution_count": 116,
   "metadata": {},
   "outputs": [
    {
     "data": {
      "text/plain": [
       "(3938,)"
      ]
     },
     "execution_count": 116,
     "metadata": {},
     "output_type": "execute_result"
    }
   ],
   "source": [
    "train_pred = kmeans.predict(X_train_trans)\n",
    "train_pred.shape"
   ]
  },
  {
   "cell_type": "markdown",
   "metadata": {},
   "source": [
    "#### Make predictions on all your data"
   ]
  },
  {
   "cell_type": "code",
   "execution_count": 117,
   "metadata": {},
   "outputs": [
    {
     "data": {
      "text/plain": [
       "(985,)"
      ]
     },
     "execution_count": 117,
     "metadata": {},
     "output_type": "execute_result"
    }
   ],
   "source": [
    "test_pred = kmeans.predict(X_test_trans)\n",
    "test_pred.shape"
   ]
  },
  {
   "cell_type": "markdown",
   "metadata": {},
   "source": [
    "#### Inspect the centroids"
   ]
  },
  {
   "cell_type": "code",
   "execution_count": 118,
   "metadata": {},
   "outputs": [
    {
     "name": "stdout",
     "output_type": "stream",
     "text": [
      "(2, 1000)\n",
      "[[0.00385907 0.01002463 0.00366665 ... 0.00585332 0.0008825  0.00347836]\n",
      " [0.0038695  0.00825403 0.00261277 ... 0.01032484 0.00297326 0.00504588]]\n"
     ]
    }
   ],
   "source": [
    "print(kmeans.cluster_centers_.shape)\n",
    "print(kmeans.cluster_centers_)"
   ]
  },
  {
   "cell_type": "markdown",
   "metadata": {},
   "source": [
    "#### Find the top 10 features for each cluster."
   ]
  },
  {
   "cell_type": "code",
   "execution_count": 119,
   "metadata": {},
   "outputs": [
    {
     "name": "stdout",
     "output_type": "stream",
     "text": [
      "top features for each cluster\n",
      "0: food, buffet, vegas, wait, best, great, line, worth, time, good\n",
      "1: crab, buffet, good, legs, food, seafood, like, station, dessert, section\n"
     ]
    }
   ],
   "source": [
    "top_centroids = kmeans.cluster_centers_.argsort()[:, -1:-11:-1]\n",
    "print('top features for each cluster')\n",
    "for num, centroid in enumerate(top_centroids):\n",
    "    print('%d: %s' % (num, \", \".join(vocab[i] for i in centroid)))"
   ]
  },
  {
   "cell_type": "markdown",
   "metadata": {},
   "source": [
    "#### Print out the rating and review of a random sample of the reviews assigned to each cluster to get a sense of the cluster."
   ]
  },
  {
   "cell_type": "code",
   "execution_count": 123,
   "metadata": {},
   "outputs": [
    {
     "name": "stdout",
     "output_type": "stream",
     "text": [
      "cluster 0:\n",
      "4:   First visit tried the Banh Mi Dac Biet. Was quite good. My local preference for Banh Mi is Dakao, and that comes down to the bread, which wasn't bad at all at Kinh Do, but I think Dakao is a cut above. Others disagreed and preferred the bread here, so YMMV.\r\n",
      "\r\n",
      "The innards of the sandwich I think were quite comparable. I want to do a side-by-side, but I will definitely be back at Kinh Do. OTOH, they were really really slow. I think I waited 15-20 minutes for a Banh Mi. But for $3.75 I guess who cares? Also my total was like $4.05, and I paid with a $5, and the woman there gave me $1.95 change. Rungood! But I gave it back, because, you know, karma and all.\r\n",
      "\r\n",
      "Second trip I followed the Yelpers and got Bun Bo Hue. This was delicious, though with the offal and cubes of blood not really for the squeamish (stick to the pho). I will absolutely work soups and banh mi from here into my Vietnamese rotation; this is considerably better than some other places I've tried in town.\n",
      "4:   I love the pad Thai from here it's my personal favorite even over Archi's (if your a local). If you don't like spice you can ask them not to put the chili paste in and the flavor is still very good. Prices are high and service isn't fantastic but I really love the pad Thai.\n",
      "5:   My husband and I were given a Gift Certificate to the Black Bear Diner for Christmas.   It turned out to be more than \"just a gift,\"  as we absolutely loved our visit, enjoyed the food immensely and had the pleasure of meeting most of the staff while there.   It was just TERRIFIC!   We plan on returning, as the menu items intrigued us to the point of saying, \"oh, I am going to order 'THIS' the next time.\"\r\n",
      "\r\n",
      "We both had the meatloaf dinner at lunch time.  It was a very generous portion and it was delicious!  Meatloaf, mashed potatoes, veggies, soup or salad, then potato salad or cole slaw, and a homemade corn muffin.   One menu item was better than the other!    While eating, our server recommended the pot roast, and we did order a pot roast dinner to take home for that night.   Looking forward to eating that later today!\r\n",
      "\r\n",
      "Our server was remarkable.  His name was GARY, and I would HIGHLY RECOMMEND him.  He was professional, yet very friendly.   He anticipated our every need before we could ask, i.e.  more napkins, more water, more salad dressing, etc.   GARY is presently working there on Tuesdays and Wednesdays, beginning at 6 a.m.   His hard work and pleasant demeanor should be recognized by management, as he was a superior server and a really nice guy.  :))\r\n",
      "\r\n",
      "The Diner itself is very  appealing.  It is extraordinarily CLEAN, neat and provides a very pleasant environment.   Watch out for the yummy looking desserts in the case by the cashier's desk.  OMG, I felt as though I gained 5 lbs just by looking at it.\r\n",
      "\r\n",
      "We highly recommend this location for their superior food and service, in addition to the cleanliness of the Diner.\r\n",
      "\r\n",
      "Looking forward to seeing the employees again.\r\n",
      "\r\n",
      "Sincerely,\r\n",
      " Helen & Bob\n",
      "cluster 1:\n",
      "5:   Great place for your Ramen Fix! Very good. I look forward to returning and trying other bowls.\n",
      "5:   I wouldn't call myself fancy. I wouldn't call myself classy. I wouldn't call myself upscale.\r\n",
      "So when I go restaurants that are fancy, classy and upscale I immediately feel like everyone in there can tell I don't belong. I don't know what fork is for what. I don't know where to put my napkin when I get up from the table and I swear everyone else notices. I also don't venture to fancy, classy and upscale places cause I almost always hate the food.\r\n",
      "The fancier the words on the menu the less I wanna try it. \r\n",
      "\r\n",
      "This is NOT that kind of place. Yes, it is fancy, classy and upscale. Yes the menu is a bunch of jibberish food. \r\n",
      "But somehow I was still able to make out a few key words to order what was Caprese salad and Potato Soup.\r\n",
      "HOT DAYUM DUDE: Emeril is no joke.\r\n",
      "The Caprese was so fresh. The tomato tasted like it was picked 15 minutes before it was cut and placed beautifully on my plate. The Potato soup had big chunks of bacon at the bottom and the server poured my soup over it. Then added a junk of Parmesan cheese and yuuum.\r\n",
      "\r\n",
      "In other fancy, classy and upscale joints I feel uncomfortable to even speak to my serious server. Not this guy. Our server was casual yet still very serious about his job. He even cracked a smile a few times. \r\n",
      "\r\n",
      "I cannot rave enough about this place. It was beautiful and elegant, delicious and exciting flavors. I loved every second of Delmonico\r\n",
      "\r\n",
      "My two small complaints\r\n",
      "1. The bathroom smells like wet rocks. Its has really cook huge rock walls but since its in a bathroom it smells weird. You know the smell of a dirty lake? That is the smell the bathroom had.\r\n",
      "2. This restaurant is inside the Venetian and VERY hard to find. There are no signs. None. Pointing you toward it. So from me to you: If you find the huge LOVE sign for the Beatles show it is directly to the right, almost hidden by the sign and the elevator.\n",
      "4:   Best stop for Vietnamese food off the strip! They have a pretty wide selection including pho, com tam, hu tieu, and bun bo hue among other things. There's never a wait and parking is easy. Service is friendly & there is never communication barrier.\n"
     ]
    }
   ],
   "source": [
    "assigned_cluster = kmeans.transform(X_train_trans).argmin(axis=1)\n",
    "for i in range(kmeans.n_clusters):\n",
    "    cluster = np.arange(0, X_train_trans.shape[0])[assigned_cluster==i]\n",
    "    samples = np.random.choice(cluster, 3, replace=False)\n",
    "    print('cluster %d:' % i)\n",
    "    for sample in samples:\n",
    "        print(\"%d:   %s\" % (df.loc[sample]['stars'], df.loc[sample]['text']))"
   ]
  },
  {
   "cell_type": "markdown",
   "metadata": {},
   "source": [
    "## 3. Use PCA to reduce dimensionality"
   ]
  },
  {
   "cell_type": "markdown",
   "metadata": {},
   "source": [
    "### Stardardize features\n",
    "X_train and X_test"
   ]
  },
  {
   "cell_type": "code",
   "execution_count": 132,
   "metadata": {},
   "outputs": [
    {
     "data": {
      "text/plain": [
       "(3938, 1000)"
      ]
     },
     "execution_count": 132,
     "metadata": {},
     "output_type": "execute_result"
    }
   ],
   "source": [
    "X_train_trans.toarray().shape"
   ]
  },
  {
   "cell_type": "code",
   "execution_count": 135,
   "metadata": {},
   "outputs": [],
   "source": [
    "from sklearn.preprocessing import StandardScaler\n",
    "\n",
    "scaler = StandardScaler()\n",
    "\n",
    "X_train_scaled = scaler.fit_transform(X_train_trans.toarray())\n",
    "\n",
    "X_test_scaled = scaler.transform(X_test_trans.toarray())"
   ]
  },
  {
   "cell_type": "markdown",
   "metadata": {},
   "source": [
    "### Use PCA to transform data (train and test) and get princial components"
   ]
  },
  {
   "cell_type": "code",
   "execution_count": 149,
   "metadata": {},
   "outputs": [],
   "source": [
    "from sklearn.decomposition import PCA\n",
    "\n",
    "# Pick a n_components\n",
    "n_components = 50\n",
    "\n",
    "pca = PCA(n_components=n_components)\n",
    "\n",
    "train_components = pca.fit_transform(X_train_scaled) # fit: get V, lambda\n",
    "\n",
    "test_components = pca.transform(X_test_scaled) # transform: X_train * V"
   ]
  },
  {
   "cell_type": "code",
   "execution_count": 151,
   "metadata": {},
   "outputs": [
    {
     "data": {
      "text/plain": [
       "(1000, 1000)"
      ]
     },
     "execution_count": 151,
     "metadata": {},
     "output_type": "execute_result"
    }
   ],
   "source": [
    "np.cov(pca.components_.T).shape"
   ]
  },
  {
   "cell_type": "markdown",
   "metadata": {},
   "source": [
    "### See how much (and how much percentage of) variance the principal components explain"
   ]
  },
  {
   "cell_type": "code",
   "execution_count": 137,
   "metadata": {},
   "outputs": [
    {
     "data": {
      "text/plain": [
       "Text(0, 0.5, 'Variance Explained')"
      ]
     },
     "execution_count": 137,
     "metadata": {},
     "output_type": "execute_result"
    },
    {
     "data": {
      "image/png": "[encoded data removed]",
      "text/plain": [
       "<Figure size 432x288 with 1 Axes>"
      ]
     },
     "metadata": {
      "needs_background": "light"
     },
     "output_type": "display_data"
    }
   ],
   "source": [
    "pca_range = np.arange(n_components) + 1\n",
    "\n",
    "pca_names = ['PCA_%s' % i for i in pca_range]\n",
    "\n",
    "plt.bar(pca_range, pca.explained_variance_, align='center')\n",
    "\n",
    "xticks = plt.xticks(pca_range, pca_names, rotation=90)\n",
    "\n",
    "plt.ylabel('Variance Explained')"
   ]
  },
  {
   "cell_type": "code",
   "execution_count": 138,
   "metadata": {},
   "outputs": [
    {
     "data": {
      "text/plain": [
       "Text(0, 0.5, 'Variance Explained')"
      ]
     },
     "execution_count": 138,
     "metadata": {},
     "output_type": "execute_result"
    },
    {
     "data": {
      "image/png": "[encoded data removed]",
      "text/plain": [
       "<Figure size 432x288 with 1 Axes>"
      ]
     },
     "metadata": {
      "needs_background": "light"
     },
     "output_type": "display_data"
    }
   ],
   "source": [
    "plt.bar(pca_range, pca.explained_variance_ratio_, align='center')\n",
    "\n",
    "xticks = plt.xticks(pca_range, pca_names, rotation=90)\n",
    "\n",
    "plt.ylabel('Variance Explained')"
   ]
  },
  {
   "cell_type": "markdown",
   "metadata": {},
   "source": [
    "## Classifying positive/negative review with PCA preprocessing"
   ]
  },
  {
   "cell_type": "markdown",
   "metadata": {},
   "source": [
    "### Define evaluation matrix"
   ]
  },
  {
   "cell_type": "code",
   "execution_count": 162,
   "metadata": {},
   "outputs": [],
   "source": [
    "from sklearn.metrics import precision_score, accuracy_score, recall_score, f1_score, roc_auc_score, roc_curve, auc"
   ]
  },
  {
   "cell_type": "code",
   "execution_count": 157,
   "metadata": {},
   "outputs": [],
   "source": [
    "def get_performance_metrics(y_train, y_train_pred, y_test, y_test_pred, threshold=0.5):\n",
    "    metric_names = ['AUC','Accuracy','Precision','Recall','f1-score']\n",
    "    metric_values_train = [roc_auc_score(y_train, y_train_pred),\n",
    "                    accuracy_score(y_train, y_train_pred>threshold),\n",
    "                    precision_score(y_train, y_train_pred>threshold),\n",
    "                    recall_score(y_train, y_train_pred>threshold),\n",
    "                    f1_score(y_train, y_train_pred>threshold)\n",
    "                   ]\n",
    "    metric_values_test = [roc_auc_score(y_test, y_test_pred),\n",
    "                    accuracy_score(y_test, y_test_pred>threshold),\n",
    "                    precision_score(y_test, y_test_pred>threshold),\n",
    "                    recall_score(y_test, y_test_pred>threshold),\n",
    "                    f1_score(y_test, y_test_pred>threshold)\n",
    "                   ]\n",
    "    all_metrics = pd.DataFrame({'metrics':metric_names,\n",
    "                                'train':metric_values_train,\n",
    "                                'test':metric_values_test},columns=['metrics','train','test']).set_index('metrics')\n",
    "    print(all_metrics)"
   ]
  },
  {
   "cell_type": "code",
   "execution_count": 161,
   "metadata": {},
   "outputs": [],
   "source": [
    "def plot_roc_curve(y_train, y_train_pred, y_test, y_test_pred):\n",
    "    roc_auc_train = roc_auc_score(y_train, y_train_pred)\n",
    "    fpr_train, tpr_train, _ = roc_curve(y_train, y_train_pred)\n",
    "\n",
    "    roc_auc_test = roc_auc_score(y_test, y_test_pred)\n",
    "    fpr_test, tpr_test, _ = roc_curve(y_test, y_test_pred)\n",
    "    plt.figure()\n",
    "    lw = 2\n",
    "    plt.plot(fpr_train, tpr_train, color='green',\n",
    "             lw=lw, label='ROC Train (AUC = %0.4f)' % roc_auc_train)\n",
    "    plt.plot(fpr_test, tpr_test, color='darkorange',\n",
    "             lw=lw, label='ROC Test (AUC = %0.4f)' % roc_auc_test)\n",
    "    plt.plot([0, 1], [0, 1], color='navy', lw=lw, linestyle='--')\n",
    "    plt.xlim([0.0, 1.0])\n",
    "    plt.ylim([0.0, 1.05])\n",
    "    plt.xlabel('False Positive Rate')\n",
    "    plt.ylabel('True Positive Rate')\n",
    "    plt.title('Receiver operating characteristic example')\n",
    "    plt.legend(loc=\"lower right\")\n",
    "    plt.show()"
   ]
  },
  {
   "cell_type": "code",
   "execution_count": 159,
   "metadata": {},
   "outputs": [],
   "source": [
    "def train_test_model(clf, X_train, y_train, X_test, y_test):\n",
    "    # Fit a model by providing X and y from training set\n",
    "    clf.fit(X_train, y_train)\n",
    "\n",
    "    # Make prediction on the training data\n",
    "    y_train_pred = clf.predict(X_train)\n",
    "    p_train_pred = clf.predict_proba(X_train)[:,1]\n",
    "\n",
    "    # Make predictions on test data\n",
    "    y_test_pred = clf.predict(X_test)\n",
    "    p_test_pred = clf.predict_proba(X_test)[:,1]\n",
    "\n",
    "    # print model results\n",
    "    get_performance_metrics(y_train, p_train_pred, y_test, p_test_pred)\n",
    "    plot_roc_curve(y_train, p_train_pred, y_test, p_test_pred)\n"
   ]
  },
  {
   "cell_type": "markdown",
   "metadata": {},
   "source": [
    "### Logistic Regression Classifier\n",
    "#### Use standardized tf-idf vectors as features"
   ]
  },
  {
   "cell_type": "code",
   "execution_count": 139,
   "metadata": {},
   "outputs": [
    {
     "name": "stderr",
     "output_type": "stream",
     "text": [
      "/usr/local/lib/python3.6/dist-packages/sklearn/linear_model/logistic.py:432: FutureWarning: Default solver will be changed to 'lbfgs' in 0.22. Specify a solver to silence this warning.\n",
      "  FutureWarning)\n"
     ]
    },
    {
     "data": {
      "text/plain": [
       "LogisticRegression(C=1.0, class_weight=None, dual=False, fit_intercept=True,\n",
       "          intercept_scaling=1, max_iter=100, multi_class='warn',\n",
       "          n_jobs=None, penalty='l2', random_state=None, solver='warn',\n",
       "          tol=0.0001, verbose=0, warm_start=False)"
      ]
     },
     "execution_count": 139,
     "metadata": {},
     "output_type": "execute_result"
    }
   ],
   "source": [
    "# Build a Logistic Regression Classifier, train with standardized tf-idf vectors\n",
    "\n",
    "from sklearn.linear_model import LogisticRegression\n",
    "\n",
    "lr_model = LogisticRegression()\n",
    "\n",
    "lr_model.fit(X_train_trans, y_train)"
   ]
  },
  {
   "cell_type": "code",
   "execution_count": 141,
   "metadata": {},
   "outputs": [
    {
     "data": {
      "text/plain": [
       "0.845606907059421"
      ]
     },
     "execution_count": 141,
     "metadata": {},
     "output_type": "execute_result"
    }
   ],
   "source": [
    "# Get score for training set\n",
    "lr_model.score(X_train_trans, y_train) # R^2 of the prediction."
   ]
  },
  {
   "cell_type": "code",
   "execution_count": 142,
   "metadata": {
    "scrolled": true
   },
   "outputs": [
    {
     "data": {
      "text/plain": [
       "0.7766497461928934"
      ]
     },
     "execution_count": 142,
     "metadata": {},
     "output_type": "execute_result"
    }
   ],
   "source": [
    "# Get score for test set\n",
    "lr_model.score(X_test_trans, y_test)"
   ]
  },
  {
   "cell_type": "markdown",
   "metadata": {},
   "source": [
    "#### Use (Stardardized + PCA) tf-idf vectors as features"
   ]
  },
  {
   "cell_type": "code",
   "execution_count": 143,
   "metadata": {},
   "outputs": [
    {
     "name": "stderr",
     "output_type": "stream",
     "text": [
      "/usr/local/lib/python3.6/dist-packages/sklearn/linear_model/logistic.py:432: FutureWarning: Default solver will be changed to 'lbfgs' in 0.22. Specify a solver to silence this warning.\n",
      "  FutureWarning)\n"
     ]
    },
    {
     "data": {
      "text/plain": [
       "LogisticRegression(C=1.0, class_weight=None, dual=False, fit_intercept=True,\n",
       "          intercept_scaling=1, max_iter=100, multi_class='warn',\n",
       "          n_jobs=None, penalty='l2', random_state=None, solver='warn',\n",
       "          tol=0.0001, verbose=0, warm_start=False)"
      ]
     },
     "execution_count": 143,
     "metadata": {},
     "output_type": "execute_result"
    }
   ],
   "source": [
    "# Build a Logistic Regression Classifier, train with PCA tranformed X\n",
    "\n",
    "from sklearn.linear_model import LogisticRegression\n",
    "\n",
    "lr_model_pca = LogisticRegression()\n",
    "\n",
    "lr_model_pca.fit(X_train_scaled, y_train)"
   ]
  },
  {
   "cell_type": "code",
   "execution_count": 144,
   "metadata": {},
   "outputs": [
    {
     "data": {
      "text/plain": [
       "0.9106145251396648"
      ]
     },
     "execution_count": 144,
     "metadata": {},
     "output_type": "execute_result"
    }
   ],
   "source": [
    "# Get score for training set\n",
    "lr_model_pca.score(X_train_scaled, y_train)"
   ]
  },
  {
   "cell_type": "code",
   "execution_count": 145,
   "metadata": {},
   "outputs": [
    {
     "data": {
      "text/plain": [
       "0.7380710659898477"
      ]
     },
     "execution_count": 145,
     "metadata": {},
     "output_type": "execute_result"
    }
   ],
   "source": [
    "# Get score for test set, REMEMBER to use PCA-transformed X!\n",
    "lr_model_pca.score(X_test_scaled, y_test)"
   ]
  },
  {
   "cell_type": "code",
   "execution_count": 163,
   "metadata": {},
   "outputs": [
    {
     "name": "stdout",
     "output_type": "stream",
     "text": [
      "              train      test\n",
      "metrics                      \n",
      "AUC        0.929305  0.866143\n",
      "Accuracy   0.845607  0.776650\n",
      "Precision  0.838354  0.762500\n",
      "Recall     0.746239  0.628866\n",
      "f1-score   0.789619  0.689266\n"
     ]
    },
    {
     "data": {
      "image/png": "[encoded data removed]",
      "text/plain": [
       "<Figure size 432x288 with 1 Axes>"
      ]
     },
     "metadata": {
      "needs_background": "light"
     },
     "output_type": "display_data"
    }
   ],
   "source": [
    "train_test_model(lr_model ,X_train_trans, y_train, X_test_trans, y_test)"
   ]
  },
  {
   "cell_type": "code",
   "execution_count": 164,
   "metadata": {},
   "outputs": [
    {
     "name": "stderr",
     "output_type": "stream",
     "text": [
      "/usr/local/lib/python3.6/dist-packages/sklearn/linear_model/logistic.py:432: FutureWarning: Default solver will be changed to 'lbfgs' in 0.22. Specify a solver to silence this warning.\n",
      "  FutureWarning)\n"
     ]
    },
    {
     "name": "stdout",
     "output_type": "stream",
     "text": [
      "              train      test\n",
      "metrics                      \n",
      "AUC        0.971809  0.811882\n",
      "Accuracy   0.910615  0.738071\n",
      "Precision  0.886408  0.673797\n",
      "Recall     0.882930  0.649485\n",
      "f1-score   0.884666  0.661417\n"
     ]
    },
    {
     "data": {
      "image/png": "[encoded data removed]",
      "text/plain": [
       "<Figure size 432x288 with 1 Axes>"
      ]
     },
     "metadata": {
      "needs_background": "light"
     },
     "output_type": "display_data"
    }
   ],
   "source": [
    "train_test_model(lr_model_pca ,X_train_scaled, y_train, X_test_scaled, y_test)"
   ]
  },
  {
   "cell_type": "markdown",
   "metadata": {},
   "source": [
    "#### After the processing of PCA, there shows a trend of more overfitting than tf-idf vector trained model"
   ]
  },
  {
   "cell_type": "markdown",
   "metadata": {},
   "source": [
    "#### Plot the coefficients against principal components\n"
   ]
  },
  {
   "cell_type": "code",
   "execution_count": 154,
   "metadata": {},
   "outputs": [
    {
     "data": {
      "image/png": "[encoded data removed]",
      "text/plain": [
       "<Figure size 640x480 with 1 Axes>"
      ]
     },
     "metadata": {},
     "output_type": "display_data"
    },
    {
     "data": {
      "text/plain": [
       "(50, 50)"
      ]
     },
     "execution_count": 154,
     "metadata": {},
     "output_type": "execute_result"
    }
   ],
   "source": [
    "# Plot coefficients of principal components\n",
    "from matplotlib.pyplot import figure\n",
    "figure(num=None, figsize=(8, 6), dpi=80, facecolor='w', edgecolor='k')\n",
    "\n",
    "plt.imshow(np.cov(pca.components_))\n",
    "plt.show()\n",
    "\n",
    "np.cov(pca.components_).shape"
   ]
  },
  {
   "cell_type": "code",
   "execution_count": 156,
   "metadata": {},
   "outputs": [
    {
     "data": {
      "image/png": "[encoded data removed]",
      "text/plain": [
       "<Figure size 640x480 with 1 Axes>"
      ]
     },
     "metadata": {},
     "output_type": "display_data"
    }
   ],
   "source": [
    "# Plot covariance of transformed feature matrix\n",
    "figure(num=None, figsize=(8, 6), dpi=80, facecolor='w', edgecolor='k')\n",
    "\n",
    "plt.imshow(np.cov(train_components.T))\n",
    "plt.show()"
   ]
  },
  {
   "cell_type": "markdown",
   "metadata": {},
   "source": [
    "### Random Forest Classifier\n",
    "#### Use standardized tf-idf vectors as features"
   ]
  },
  {
   "cell_type": "code",
   "execution_count": 165,
   "metadata": {},
   "outputs": [
    {
     "name": "stdout",
     "output_type": "stream",
     "text": [
      "              train      test\n",
      "metrics                      \n",
      "AUC        0.897528  0.829072\n",
      "Accuracy   0.782123  0.727919\n",
      "Precision  0.855026  0.803030\n",
      "Recall     0.528450  0.409794\n",
      "f1-score   0.653193  0.542662\n"
     ]
    },
    {
     "data": {
      "image/png": "[encoded data removed]",
      "text/plain": [
       "<Figure size 432x288 with 1 Axes>"
      ]
     },
     "metadata": {
      "needs_background": "light"
     },
     "output_type": "display_data"
    }
   ],
   "source": [
    "# Build a Random Forest Classifier\n",
    "\n",
    "from sklearn.ensemble import RandomForestClassifier\n",
    "\n",
    "parameters = {'n_estimators': 50,\n",
    "              'max_features': 'auto',\n",
    "              'criterion': 'gini',\n",
    "              'max_depth': 20,\n",
    "              'min_samples_split': 2,\n",
    "              'min_samples_leaf': 20,\n",
    "              'random_state': 0,\n",
    "              'n_jobs': -1\n",
    "              }\n",
    "\n",
    "rf_clf = RandomForestClassifier(**parameters)\n",
    "\n",
    "\n",
    "# Train test model\n",
    "train_test_model(rf_clf, X_train_trans, y_train, X_test_trans, y_test)"
   ]
  },
  {
   "cell_type": "markdown",
   "metadata": {},
   "source": [
    "#### Use (Stardardized + PCA) tf-idf vectors as features"
   ]
  },
  {
   "cell_type": "code",
   "execution_count": 166,
   "metadata": {},
   "outputs": [
    {
     "name": "stdout",
     "output_type": "stream",
     "text": [
      "              train      test\n",
      "metrics                      \n",
      "AUC        0.897528  0.829072\n",
      "Accuracy   0.782123  0.727919\n",
      "Precision  0.855026  0.803030\n",
      "Recall     0.528450  0.409794\n",
      "f1-score   0.653193  0.542662\n"
     ]
    },
    {
     "data": {
      "image/png": "[encoded data removed]",
      "text/plain": [
       "<Figure size 432x288 with 1 Axes>"
      ]
     },
     "metadata": {
      "needs_background": "light"
     },
     "output_type": "display_data"
    }
   ],
   "source": [
    "# Build a Random Forest Classifier\n",
    "\n",
    "from sklearn.ensemble import RandomForestClassifier\n",
    "\n",
    "rf_clf_pca = RandomForestClassifier(**parameters)\n",
    "\n",
    "train_test_model(rf_clf_pca, X_train_scaled, y_train, X_test_scaled, y_test)"
   ]
  },
  {
   "cell_type": "markdown",
   "metadata": {},
   "source": [
    "#### In Random Forest model, tf-idf vector and pca shows quite similar performance with less overfitting than logistic regression"
   ]
  }
 ],
 "metadata": {
  "anaconda-cloud": {},
  "kernelspec": {
   "display_name": "Python 3",
   "language": "python",
   "name": "python3"
  },
  "language_info": {
   "codemirror_mode": {
    "name": "ipython",
    "version": 3
   },
   "file_extension": ".py",
   "mimetype": "text/x-python",
   "name": "python",
   "nbconvert_exporter": "python",
   "pygments_lexer": "ipython3",
   "version": "3.6.7"
  }
 },
 "nbformat": 4,
 "nbformat_minor": 1
}
